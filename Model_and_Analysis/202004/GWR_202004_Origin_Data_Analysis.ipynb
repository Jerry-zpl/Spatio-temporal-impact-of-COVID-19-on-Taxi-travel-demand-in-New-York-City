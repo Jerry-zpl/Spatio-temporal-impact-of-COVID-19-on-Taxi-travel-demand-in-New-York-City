{
 "cells": [
  {
   "cell_type": "code",
   "execution_count": 1,
   "metadata": {},
   "outputs": [],
   "source": [
    "import numpy as np\n",
    "import pandas as pd"
   ]
  },
  {
   "cell_type": "code",
   "execution_count": 2,
   "metadata": {},
   "outputs": [],
   "source": [
    "alldata = pd.read_excel(\"E:\\\\Capstone Project\\\\Data\\\\Taxi_area\\\\pick202004final.xlsx\")\n",
    "data1 = alldata.groupby(['LocationID']).mean()\n",
    "data1 = data1[['Freq','pop_density','commercial_density','road_density','X','Y']]\n",
    "\n",
    "from sklearn import preprocessing\n",
    "\n",
    "scaler = preprocessing.StandardScaler()\n",
    "scaler.fit(data1[['pop_density','commercial_density','road_density']])\n",
    "data1[['pop_density','commercial_density','road_density']] = scaler.transform(data1[['pop_density','commercial_density','road_density']])"
   ]
  },
  {
   "cell_type": "code",
   "execution_count": 16,
   "metadata": {},
   "outputs": [
    {
     "name": "stdout",
     "output_type": "stream",
     "text": [
      "bw: 126.0 , score: 1859.54\n",
      "bw: 96.0 , score: 1821.61\n",
      "bw: 78.0 , score: 1805.46\n",
      "bw: 66.0 , score: 1801.38\n",
      "bw: 59.0 , score: 1800.64\n",
      "bw: 59.0 , score: 1800.64\n",
      "bw: 62.0 , score: 1799.5\n",
      "bw: 62.0 , score: 1799.5\n",
      "bw: 62.0 , score: 1799.5\n",
      "bw: 62.0 , score: 1799.5\n"
     ]
    }
   ],
   "source": [
    "X = np.array(data1[[\"X\"]])\n",
    "Y = np.array(data1[[\"Y\"]])\n",
    "coords = np.hstack([X,Y])\n",
    "\n",
    "\n",
    "y = np.array(data1[[\"Freq\"]])\n",
    "\n",
    "pop = np.array(data1[[\"pop_density\"]])\n",
    "com = np.array(data1[[\"commercial_density\"]])\n",
    "roa = np.array(data1[[\"road_density\"]])\n",
    "x = np.hstack([pop,com,roa])\n",
    "\n",
    "from gtwr.sel import search_GWRparameter\n",
    "\n",
    "sel = search_GWRparameter(coords, y, x, kernel = 'bisquare')\n",
    "\n",
    "bw = sel.search(verbose = True)"
   ]
  },
  {
   "cell_type": "code",
   "execution_count": 3,
   "metadata": {},
   "outputs": [
    {
     "data": {
      "text/plain": [
       "0.851768616673437"
      ]
     },
     "execution_count": 3,
     "metadata": {},
     "output_type": "execute_result"
    }
   ],
   "source": [
    "X = np.array(data1[[\"X\"]])\n",
    "Y = np.array(data1[[\"Y\"]])\n",
    "coords = np.hstack([X,Y])\n",
    "\n",
    "y = np.array(data1[[\"Freq\"]])\n",
    "\n",
    "pop = np.array(data1[[\"pop_density\"]])\n",
    "com = np.array(data1[[\"commercial_density\"]])\n",
    "roa = np.array(data1[[\"road_density\"]])\n",
    "x = np.hstack([pop,com,roa])\n",
    "\n",
    "from gtwr.model import GWR\n",
    "\n",
    "results1 = GWR(coords, y, x,49, kernel='bisquare').fit()\n",
    "\n",
    "results1.R2"
   ]
  },
  {
   "cell_type": "code",
   "execution_count": 18,
   "metadata": {},
   "outputs": [],
   "source": [
    "coords = results1.coords\n",
    "coords = pd.DataFrame(coords)\n",
    "\n",
    "betas = results1.betas\n",
    "betas = pd.DataFrame(betas)\n",
    "\n",
    "tvalues = results1.tvalues\n",
    "tvalues = pd.DataFrame(tvalues)\n",
    "\n",
    "final_result = pd.concat([betas,tvalues,coords], axis = 1)\n",
    "final_result.columns=['beta0','POP_beta','COM_beta','ROA_beta','t_beta0','t_POP_beta','t_COM_beta','t_ROA_beta','X','Y']\n",
    "\n",
    "data2 = pd.merge(data1, final_result, left_on=['X','Y'], right_on=['X','Y'] , how='left')\n",
    "data2.drop(['Freq','pop_density','commercial_density','road_density'],axis=1,inplace = True)\n",
    "data2.to_csv(r'E:\\\\Capstone Project\\\\Data\\\\paper\\\\minor\\\\pick202004beta.csv',index=True,sep=',')"
   ]
  },
  {
   "cell_type": "code",
   "execution_count": 4,
   "metadata": {},
   "outputs": [
    {
     "data": {
      "text/html": [
       "<div>\n",
       "<style scoped>\n",
       "    .dataframe tbody tr th:only-of-type {\n",
       "        vertical-align: middle;\n",
       "    }\n",
       "\n",
       "    .dataframe tbody tr th {\n",
       "        vertical-align: top;\n",
       "    }\n",
       "\n",
       "    .dataframe thead th {\n",
       "        text-align: right;\n",
       "    }\n",
       "</style>\n",
       "<table border=\"1\" class=\"dataframe\">\n",
       "  <thead>\n",
       "    <tr style=\"text-align: right;\">\n",
       "      <th></th>\n",
       "      <th>0</th>\n",
       "      <th>1</th>\n",
       "      <th>2</th>\n",
       "      <th>3</th>\n",
       "    </tr>\n",
       "  </thead>\n",
       "  <tbody>\n",
       "    <tr>\n",
       "      <th>count</th>\n",
       "      <td>252.000000</td>\n",
       "      <td>252.000000</td>\n",
       "      <td>252.000000</td>\n",
       "      <td>252.000000</td>\n",
       "    </tr>\n",
       "    <tr>\n",
       "      <th>mean</th>\n",
       "      <td>6.488720</td>\n",
       "      <td>0.825961</td>\n",
       "      <td>0.966944</td>\n",
       "      <td>0.306753</td>\n",
       "    </tr>\n",
       "    <tr>\n",
       "      <th>std</th>\n",
       "      <td>9.433952</td>\n",
       "      <td>2.799537</td>\n",
       "      <td>2.498921</td>\n",
       "      <td>3.110099</td>\n",
       "    </tr>\n",
       "    <tr>\n",
       "      <th>min</th>\n",
       "      <td>-6.965150</td>\n",
       "      <td>-4.762119</td>\n",
       "      <td>-6.094518</td>\n",
       "      <td>-16.909585</td>\n",
       "    </tr>\n",
       "    <tr>\n",
       "      <th>25%</th>\n",
       "      <td>1.685253</td>\n",
       "      <td>-0.292521</td>\n",
       "      <td>-0.119516</td>\n",
       "      <td>-0.489198</td>\n",
       "    </tr>\n",
       "    <tr>\n",
       "      <th>50%</th>\n",
       "      <td>2.225269</td>\n",
       "      <td>0.095883</td>\n",
       "      <td>0.217532</td>\n",
       "      <td>-0.040165</td>\n",
       "    </tr>\n",
       "    <tr>\n",
       "      <th>75%</th>\n",
       "      <td>3.552732</td>\n",
       "      <td>0.456166</td>\n",
       "      <td>1.050017</td>\n",
       "      <td>0.591702</td>\n",
       "    </tr>\n",
       "    <tr>\n",
       "      <th>max</th>\n",
       "      <td>39.675993</td>\n",
       "      <td>13.741290</td>\n",
       "      <td>15.527139</td>\n",
       "      <td>13.277937</td>\n",
       "    </tr>\n",
       "  </tbody>\n",
       "</table>\n",
       "</div>"
      ],
      "text/plain": [
       "                0           1           2           3\n",
       "count  252.000000  252.000000  252.000000  252.000000\n",
       "mean     6.488720    0.825961    0.966944    0.306753\n",
       "std      9.433952    2.799537    2.498921    3.110099\n",
       "min     -6.965150   -4.762119   -6.094518  -16.909585\n",
       "25%      1.685253   -0.292521   -0.119516   -0.489198\n",
       "50%      2.225269    0.095883    0.217532   -0.040165\n",
       "75%      3.552732    0.456166    1.050017    0.591702\n",
       "max     39.675993   13.741290   15.527139   13.277937"
      ]
     },
     "execution_count": 4,
     "metadata": {},
     "output_type": "execute_result"
    }
   ],
   "source": [
    "betas = results1.betas\n",
    "betas = pd.DataFrame(betas)\n",
    "betas.describe()"
   ]
  },
  {
   "cell_type": "code",
   "execution_count": null,
   "metadata": {},
   "outputs": [],
   "source": []
  }
 ],
 "metadata": {
  "kernelspec": {
   "display_name": "Python 3",
   "language": "python",
   "name": "python3"
  },
  "language_info": {
   "codemirror_mode": {
    "name": "ipython",
    "version": 3
   },
   "file_extension": ".py",
   "mimetype": "text/x-python",
   "name": "python",
   "nbconvert_exporter": "python",
   "pygments_lexer": "ipython3",
   "version": "3.7.6"
  }
 },
 "nbformat": 4,
 "nbformat_minor": 4
}
