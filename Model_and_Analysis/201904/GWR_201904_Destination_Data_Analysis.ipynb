{
 "cells": [
  {
   "cell_type": "code",
   "execution_count": 1,
   "metadata": {},
   "outputs": [],
   "source": [
    "import numpy as np\n",
    "import pandas as pd"
   ]
  },
  {
   "cell_type": "code",
   "execution_count": 2,
   "metadata": {},
   "outputs": [],
   "source": [
    "alldata = pd.read_excel(\"E:\\\\Capstone Project\\\\Data\\\\Taxi_area\\\\drop201904final.xlsx\")\n",
    "data1 = alldata.groupby(['LocationID']).mean()\n",
    "data1 = data1[['Freq','pop_density','commercial_density','road_density','X','Y']]\n",
    "\n",
    "from sklearn import preprocessing\n",
    "\n",
    "scaler = preprocessing.StandardScaler()\n",
    "scaler.fit(data1[['pop_density','commercial_density','road_density']])\n",
    "data1[['pop_density','commercial_density','road_density']] = scaler.transform(data1[['pop_density','commercial_density','road_density']])"
   ]
  },
  {
   "cell_type": "code",
   "execution_count": 3,
   "metadata": {},
   "outputs": [
    {
     "data": {
      "text/plain": [
       "0.9132140047305656"
      ]
     },
     "execution_count": 3,
     "metadata": {},
     "output_type": "execute_result"
    }
   ],
   "source": [
    "X = np.array(data1[[\"X\"]])\n",
    "Y = np.array(data1[[\"Y\"]])\n",
    "coords = np.hstack([X,Y])\n",
    "\n",
    "y = np.array(data1[[\"Freq\"]])\n",
    "\n",
    "pop = np.array(data1[[\"pop_density\"]])\n",
    "com = np.array(data1[[\"commercial_density\"]])\n",
    "roa = np.array(data1[[\"road_density\"]])\n",
    "x = np.hstack([pop,com,roa])\n",
    "\n",
    "from gtwr.model import GWR\n",
    "\n",
    "results1 = GWR(coords, y, x,49, kernel='bisquare').fit()\n",
    "\n",
    "results1.R2"
   ]
  },
  {
   "cell_type": "code",
   "execution_count": 11,
   "metadata": {},
   "outputs": [],
   "source": [
    "coords = results1.coords\n",
    "coords = pd.DataFrame(coords)\n",
    "\n",
    "betas = results1.betas\n",
    "betas = pd.DataFrame(betas)\n",
    "\n",
    "tvalues = results1.tvalues\n",
    "tvalues = pd.DataFrame(tvalues)\n",
    "\n",
    "final_result = pd.concat([betas,tvalues,coords], axis = 1)\n",
    "final_result.columns=['beta0','POP_beta','COM_beta','ROA_beta','t_beta0','t_POP_beta','t_COM_beta','t_ROA_beta','X','Y']\n",
    "\n",
    "data2 = pd.merge(data1, final_result, left_on=['X','Y'], right_on=['X','Y'] , how='left')\n",
    "data2.drop(['Freq','pop_density','commercial_density','road_density'],axis=1,inplace = True)\n",
    "data2.to_csv(r'E:\\\\Capstone Project\\\\Data\\\\paper\\\\minor\\\\drop201904beta.csv',index=True,sep=',')"
   ]
  },
  {
   "cell_type": "code",
   "execution_count": 4,
   "metadata": {},
   "outputs": [
    {
     "data": {
      "text/html": [
       "<div>\n",
       "<style scoped>\n",
       "    .dataframe tbody tr th:only-of-type {\n",
       "        vertical-align: middle;\n",
       "    }\n",
       "\n",
       "    .dataframe tbody tr th {\n",
       "        vertical-align: top;\n",
       "    }\n",
       "\n",
       "    .dataframe thead th {\n",
       "        text-align: right;\n",
       "    }\n",
       "</style>\n",
       "<table border=\"1\" class=\"dataframe\">\n",
       "  <thead>\n",
       "    <tr style=\"text-align: right;\">\n",
       "      <th></th>\n",
       "      <th>0</th>\n",
       "      <th>1</th>\n",
       "      <th>2</th>\n",
       "      <th>3</th>\n",
       "    </tr>\n",
       "  </thead>\n",
       "  <tbody>\n",
       "    <tr>\n",
       "      <th>count</th>\n",
       "      <td>258.000000</td>\n",
       "      <td>258.000000</td>\n",
       "      <td>258.000000</td>\n",
       "      <td>258.000000</td>\n",
       "    </tr>\n",
       "    <tr>\n",
       "      <th>mean</th>\n",
       "      <td>144.949210</td>\n",
       "      <td>38.168167</td>\n",
       "      <td>-5.089025</td>\n",
       "      <td>29.114552</td>\n",
       "    </tr>\n",
       "    <tr>\n",
       "      <th>std</th>\n",
       "      <td>236.519625</td>\n",
       "      <td>77.197735</td>\n",
       "      <td>47.081986</td>\n",
       "      <td>103.524852</td>\n",
       "    </tr>\n",
       "    <tr>\n",
       "      <th>min</th>\n",
       "      <td>-42.365384</td>\n",
       "      <td>-96.358800</td>\n",
       "      <td>-251.295069</td>\n",
       "      <td>-256.470127</td>\n",
       "    </tr>\n",
       "    <tr>\n",
       "      <th>25%</th>\n",
       "      <td>9.235516</td>\n",
       "      <td>-1.358937</td>\n",
       "      <td>-2.241750</td>\n",
       "      <td>-8.405099</td>\n",
       "    </tr>\n",
       "    <tr>\n",
       "      <th>50%</th>\n",
       "      <td>27.496854</td>\n",
       "      <td>3.310515</td>\n",
       "      <td>1.505590</td>\n",
       "      <td>1.185233</td>\n",
       "    </tr>\n",
       "    <tr>\n",
       "      <th>75%</th>\n",
       "      <td>105.391617</td>\n",
       "      <td>33.644181</td>\n",
       "      <td>12.940535</td>\n",
       "      <td>22.982650</td>\n",
       "    </tr>\n",
       "    <tr>\n",
       "      <th>max</th>\n",
       "      <td>857.210247</td>\n",
       "      <td>330.393276</td>\n",
       "      <td>125.263292</td>\n",
       "      <td>462.816067</td>\n",
       "    </tr>\n",
       "  </tbody>\n",
       "</table>\n",
       "</div>"
      ],
      "text/plain": [
       "                0           1           2           3\n",
       "count  258.000000  258.000000  258.000000  258.000000\n",
       "mean   144.949210   38.168167   -5.089025   29.114552\n",
       "std    236.519625   77.197735   47.081986  103.524852\n",
       "min    -42.365384  -96.358800 -251.295069 -256.470127\n",
       "25%      9.235516   -1.358937   -2.241750   -8.405099\n",
       "50%     27.496854    3.310515    1.505590    1.185233\n",
       "75%    105.391617   33.644181   12.940535   22.982650\n",
       "max    857.210247  330.393276  125.263292  462.816067"
      ]
     },
     "execution_count": 4,
     "metadata": {},
     "output_type": "execute_result"
    }
   ],
   "source": [
    "betas = results1.betas\n",
    "betas = pd.DataFrame(betas)\n",
    "betas.describe()"
   ]
  },
  {
   "cell_type": "code",
   "execution_count": null,
   "metadata": {},
   "outputs": [],
   "source": []
  }
 ],
 "metadata": {
  "kernelspec": {
   "display_name": "Python 3",
   "language": "python",
   "name": "python3"
  },
  "language_info": {
   "codemirror_mode": {
    "name": "ipython",
    "version": 3
   },
   "file_extension": ".py",
   "mimetype": "text/x-python",
   "name": "python",
   "nbconvert_exporter": "python",
   "pygments_lexer": "ipython3",
   "version": "3.7.6"
  }
 },
 "nbformat": 4,
 "nbformat_minor": 4
}
