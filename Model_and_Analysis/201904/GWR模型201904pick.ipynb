{
 "cells": [
  {
   "cell_type": "code",
   "execution_count": 1,
   "metadata": {},
   "outputs": [],
   "source": [
    "import numpy as np\n",
    "import pandas as pd"
   ]
  },
  {
   "cell_type": "code",
   "execution_count": 2,
   "metadata": {},
   "outputs": [
    {
     "name": "stderr",
     "output_type": "stream",
     "text": [
      "E:\\anaconda\\lib\\site-packages\\ipykernel_launcher.py:9: SettingWithCopyWarning: \n",
      "A value is trying to be set on a copy of a slice from a DataFrame.\n",
      "Try using .loc[row_indexer,col_indexer] = value instead\n",
      "\n",
      "See the caveats in the documentation: https://pandas.pydata.org/pandas-docs/stable/user_guide/indexing.html#returning-a-view-versus-a-copy\n",
      "  if __name__ == '__main__':\n",
      "E:\\anaconda\\lib\\site-packages\\pandas\\core\\frame.py:2969: SettingWithCopyWarning: \n",
      "A value is trying to be set on a copy of a slice from a DataFrame\n",
      "\n",
      "See the caveats in the documentation: https://pandas.pydata.org/pandas-docs/stable/user_guide/indexing.html#returning-a-view-versus-a-copy\n",
      "  self.loc._setitem_with_indexer((slice(None), indexer), value)\n",
      "E:\\anaconda\\lib\\site-packages\\pandas\\core\\frame.py:2935: SettingWithCopyWarning: \n",
      "A value is trying to be set on a copy of a slice from a DataFrame\n",
      "\n",
      "See the caveats in the documentation: https://pandas.pydata.org/pandas-docs/stable/user_guide/indexing.html#returning-a-view-versus-a-copy\n",
      "  self._setitem_array(key, value)\n"
     ]
    }
   ],
   "source": [
    "alldata = pd.read_excel(\"E:\\\\Capstone Project\\\\Data\\\\Taxi_area\\\\pick201904final.xlsx\")\n",
    "data = alldata.groupby(['LocationID']).mean()\n",
    "data1 = data[['Freq','pop_density','commercial_density','road_density','X','Y']]\n",
    "\n",
    "from sklearn import preprocessing\n",
    "\n",
    "scaler = preprocessing.StandardScaler()\n",
    "scaler.fit(data1[['pop_density','commercial_density','road_density']])\n",
    "data1[['pop_density','commercial_density','road_density']] = scaler.transform(data1[['pop_density','commercial_density','road_density']])"
   ]
  },
  {
   "cell_type": "code",
   "execution_count": 30,
   "metadata": {},
   "outputs": [
    {
     "name": "stdout",
     "output_type": "stream",
     "text": [
      "bw: 128.0 , score: 3567.95\n",
      "bw: 97.0 , score: 3521.97\n",
      "bw: 79.0 , score: 3483.71\n",
      "bw: 67.0 , score: 3450.59\n",
      "bw: 60.0 , score: 3430.4\n",
      "bw: 55.0 , score: 3420.6\n",
      "bw: 53.0 , score: 3415.45\n",
      "bw: 51.0 , score: 3412.02\n",
      "bw: 50.0 , score: 3409.92\n",
      "bw: 49.0 , score: 3409.35\n",
      "bw: 49.0 , score: 3409.35\n"
     ]
    }
   ],
   "source": [
    "X = np.array(data1[[\"X\"]])\n",
    "Y = np.array(data1[[\"Y\"]])\n",
    "coords = np.hstack([X,Y])\n",
    "\n",
    "\n",
    "y = np.array(data1[[\"Freq\"]])\n",
    "\n",
    "pop = np.array(data1[[\"pop_density\"]])\n",
    "com = np.array(data1[[\"commercial_density\"]])\n",
    "roa = np.array(data1[[\"road_density\"]])\n",
    "x = np.hstack([pop,com,roa])\n",
    "\n",
    "from gtwr.sel import search_GWRparameter\n",
    "\n",
    "sel = search_GWRparameter(coords, y, x, kernel = 'bisquare')\n",
    "\n",
    "bw = sel.search(verbose = True)"
   ]
  },
  {
   "cell_type": "code",
   "execution_count": 3,
   "metadata": {},
   "outputs": [
    {
     "data": {
      "text/plain": [
       "0.9089215955288577"
      ]
     },
     "execution_count": 3,
     "metadata": {},
     "output_type": "execute_result"
    }
   ],
   "source": [
    "X = np.array(data1[[\"X\"]])\n",
    "Y = np.array(data1[[\"Y\"]])\n",
    "coords = np.hstack([X,Y])\n",
    "\n",
    "y = np.array(data1[[\"Freq\"]])\n",
    "\n",
    "pop = np.array(data1[[\"pop_density\"]])\n",
    "com = np.array(data1[[\"commercial_density\"]])\n",
    "roa = np.array(data1[[\"road_density\"]])\n",
    "x = np.hstack([pop,com,roa])\n",
    "\n",
    "from gtwr.model import GWR\n",
    "\n",
    "results1 = GWR(coords, y, x,49, kernel='bisquare').fit()\n",
    "\n",
    "results1.R2"
   ]
  },
  {
   "cell_type": "code",
   "execution_count": 32,
   "metadata": {},
   "outputs": [],
   "source": [
    "coords = results1.coords\n",
    "coords = pd.DataFrame(coords)\n",
    "\n",
    "betas = results1.betas\n",
    "betas = pd.DataFrame(betas)\n",
    "\n",
    "tvalues = results1.tvalues\n",
    "tvalues = pd.DataFrame(tvalues)\n",
    "\n",
    "final_result = pd.concat([betas,tvalues,coords], axis = 1)\n",
    "final_result.columns=['beta0','POP_beta','COM_beta','ROA_beta','t_beta0','t_POP_beta','t_COM_beta','t_ROA_beta','X','Y']"
   ]
  },
  {
   "cell_type": "code",
   "execution_count": 33,
   "metadata": {},
   "outputs": [],
   "source": [
    "data2 = pd.merge(data1, final_result, left_on=['X','Y'], right_on=['X','Y'] , how='left')\n",
    "data2.drop(['Freq','pop_density','commercial_density','road_density'],axis=1,inplace = True)\n",
    "data2.to_csv(r'E:\\\\Capstone Project\\\\Data\\\\paper\\\\minor\\\\pick201904beta.csv',index=True,sep=',')"
   ]
  },
  {
   "cell_type": "code",
   "execution_count": 5,
   "metadata": {},
   "outputs": [
    {
     "data": {
      "text/html": [
       "<div>\n",
       "<style scoped>\n",
       "    .dataframe tbody tr th:only-of-type {\n",
       "        vertical-align: middle;\n",
       "    }\n",
       "\n",
       "    .dataframe tbody tr th {\n",
       "        vertical-align: top;\n",
       "    }\n",
       "\n",
       "    .dataframe thead th {\n",
       "        text-align: right;\n",
       "    }\n",
       "</style>\n",
       "<table border=\"1\" class=\"dataframe\">\n",
       "  <thead>\n",
       "    <tr style=\"text-align: right;\">\n",
       "      <th></th>\n",
       "      <th>0</th>\n",
       "      <th>1</th>\n",
       "      <th>2</th>\n",
       "      <th>3</th>\n",
       "    </tr>\n",
       "  </thead>\n",
       "  <tbody>\n",
       "    <tr>\n",
       "      <th>count</th>\n",
       "      <td>257.000000</td>\n",
       "      <td>257.000000</td>\n",
       "      <td>257.000000</td>\n",
       "      <td>257.000000</td>\n",
       "    </tr>\n",
       "    <tr>\n",
       "      <th>mean</th>\n",
       "      <td>145.165331</td>\n",
       "      <td>49.179859</td>\n",
       "      <td>-8.713310</td>\n",
       "      <td>25.431563</td>\n",
       "    </tr>\n",
       "    <tr>\n",
       "      <th>std</th>\n",
       "      <td>243.505318</td>\n",
       "      <td>101.260859</td>\n",
       "      <td>57.585723</td>\n",
       "      <td>134.092684</td>\n",
       "    </tr>\n",
       "    <tr>\n",
       "      <th>min</th>\n",
       "      <td>-46.967759</td>\n",
       "      <td>-102.298783</td>\n",
       "      <td>-275.959207</td>\n",
       "      <td>-298.931959</td>\n",
       "    </tr>\n",
       "    <tr>\n",
       "      <th>25%</th>\n",
       "      <td>5.220818</td>\n",
       "      <td>-0.901865</td>\n",
       "      <td>-6.851844</td>\n",
       "      <td>-5.890214</td>\n",
       "    </tr>\n",
       "    <tr>\n",
       "      <th>50%</th>\n",
       "      <td>18.309975</td>\n",
       "      <td>1.924896</td>\n",
       "      <td>0.592348</td>\n",
       "      <td>0.406515</td>\n",
       "    </tr>\n",
       "    <tr>\n",
       "      <th>75%</th>\n",
       "      <td>147.180948</td>\n",
       "      <td>37.015777</td>\n",
       "      <td>8.864405</td>\n",
       "      <td>30.219458</td>\n",
       "    </tr>\n",
       "    <tr>\n",
       "      <th>max</th>\n",
       "      <td>936.587242</td>\n",
       "      <td>546.711586</td>\n",
       "      <td>128.834048</td>\n",
       "      <td>561.420757</td>\n",
       "    </tr>\n",
       "  </tbody>\n",
       "</table>\n",
       "</div>"
      ],
      "text/plain": [
       "                0           1           2           3\n",
       "count  257.000000  257.000000  257.000000  257.000000\n",
       "mean   145.165331   49.179859   -8.713310   25.431563\n",
       "std    243.505318  101.260859   57.585723  134.092684\n",
       "min    -46.967759 -102.298783 -275.959207 -298.931959\n",
       "25%      5.220818   -0.901865   -6.851844   -5.890214\n",
       "50%     18.309975    1.924896    0.592348    0.406515\n",
       "75%    147.180948   37.015777    8.864405   30.219458\n",
       "max    936.587242  546.711586  128.834048  561.420757"
      ]
     },
     "execution_count": 5,
     "metadata": {},
     "output_type": "execute_result"
    }
   ],
   "source": [
    "betas = results1.betas\n",
    "betas = pd.DataFrame(betas)\n",
    "betas.describe()"
   ]
  },
  {
   "cell_type": "code",
   "execution_count": null,
   "metadata": {},
   "outputs": [],
   "source": []
  }
 ],
 "metadata": {
  "kernelspec": {
   "display_name": "Python 3",
   "language": "python",
   "name": "python3"
  },
  "language_info": {
   "codemirror_mode": {
    "name": "ipython",
    "version": 3
   },
   "file_extension": ".py",
   "mimetype": "text/x-python",
   "name": "python",
   "nbconvert_exporter": "python",
   "pygments_lexer": "ipython3",
   "version": "3.7.6"
  }
 },
 "nbformat": 4,
 "nbformat_minor": 4
}
