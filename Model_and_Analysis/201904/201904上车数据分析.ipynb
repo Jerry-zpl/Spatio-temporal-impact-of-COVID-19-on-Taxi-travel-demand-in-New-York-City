{
 "cells": [
  {
   "cell_type": "code",
   "execution_count": 1,
   "metadata": {},
   "outputs": [],
   "source": [
    "import numpy as np\n",
    "import pandas as pd"
   ]
  },
  {
   "cell_type": "code",
   "execution_count": 2,
   "metadata": {},
   "outputs": [],
   "source": [
    "alldata = pd.read_excel(\"E:\\\\Capstone Project\\\\Data\\\\Taxi_area\\\\pick201904final.xlsx\")\n",
    "train1data = pd.read_excel(\"E:\\\\Capstone Project\\\\Data\\\\Taxi_area\\\\pick201904train1final.xlsx\")\n",
    "train2data = pd.read_excel(\"E:\\\\Capstone Project\\\\Data\\\\Taxi_area\\\\pick201904train2final.xlsx\")\n",
    "train3data = pd.read_excel(\"E:\\\\Capstone Project\\\\Data\\\\Taxi_area\\\\pick201904train3final.xlsx\")"
   ]
  },
  {
   "cell_type": "code",
   "execution_count": 3,
   "metadata": {},
   "outputs": [],
   "source": [
    "data1 = alldata.sort_values(\"LocationID\")\n",
    "data1 = data1.reset_index(drop=True)\n",
    "\n",
    "from sklearn import preprocessing\n",
    "\n",
    "scaler = preprocessing.StandardScaler()\n",
    "scaler.fit(data1[['pop_density','commercial_density','road_density','X','Y']])\n",
    "data1[['pop_density','commercial_density','road_density','X','Y']] = scaler.transform(data1[['pop_density','commercial_density','road_density','X','Y']])"
   ]
  },
  {
   "cell_type": "code",
   "execution_count": 5,
   "metadata": {},
   "outputs": [
    {
     "data": {
      "text/plain": [
       "0.9024761944427667"
      ]
     },
     "execution_count": 5,
     "metadata": {},
     "output_type": "execute_result"
    }
   ],
   "source": [
    "X = np.array(data1[[\"X\"]])\n",
    "Y = np.array(data1[[\"Y\"]])\n",
    "coords = np.hstack([X,Y])\n",
    "\n",
    "t = np.array(data1[[\"time\"]])\n",
    "\n",
    "y = np.array(data1[[\"Freq\"]])\n",
    "\n",
    "pop = np.array(data1[[\"pop_density\"]])\n",
    "com = np.array(data1[[\"commercial_density\"]])\n",
    "roa = np.array(data1[[\"road_density\"]])\n",
    "x = np.hstack([pop,com,roa])\n",
    "\n",
    "from gtwr.model import GTWR\n",
    "#20, 0.2\n",
    "results1 = GTWR(coords, t, y, x,95,0.01, kernel='bisquare').fit()\n",
    "\n",
    "results1.R2"
   ]
  },
  {
   "cell_type": "code",
   "execution_count": 6,
   "metadata": {},
   "outputs": [],
   "source": [
    "coords = results1.coords\n",
    "coords = pd.DataFrame(coords)\n",
    "\n",
    "time = results1.t\n",
    "time = pd.DataFrame(time)\n",
    "\n",
    "betas = results1.betas\n",
    "betas = pd.DataFrame(betas)\n",
    "\n",
    "tvalues = results1.tvalues\n",
    "tvalues = pd.DataFrame(tvalues)\n",
    "\n",
    "final_result = pd.concat([time,betas,tvalues,coords], axis = 1)\n",
    "final_result.columns=['time','beta0','POP_beta','COM_beta','ROA_beta','t_beta0','t_POP_beta','t_COM_beta','t_ROA_beta','X','Y']"
   ]
  },
  {
   "cell_type": "code",
   "execution_count": 7,
   "metadata": {},
   "outputs": [],
   "source": [
    "time_data = final_result.sort_values(\"time\")"
   ]
  },
  {
   "cell_type": "code",
   "execution_count": 8,
   "metadata": {},
   "outputs": [],
   "source": [
    "data2 = pd.merge(data1, time_data, left_on=['time','X','Y'], right_on=['time','X','Y'] , how='left')\n",
    "data2 = data2.sort_values(\"time\")\n",
    "data2 = data2.reset_index(drop=True)\n",
    "data2.drop(['Freq','pop_density','commercial_density','road_density'],axis=1,inplace = True)"
   ]
  },
  {
   "cell_type": "code",
   "execution_count": 9,
   "metadata": {},
   "outputs": [],
   "source": [
    "data3 = pd.DataFrame()\n",
    "for j in range(len(data2)):\n",
    "    if abs(data2.iloc[j,8]) > 0 and abs(data2.iloc[j,9]) > 0 and abs(data2.iloc[j,10]) > 0 and abs(data2.iloc[j,11]) > 0 :\n",
    "        a = data2.iloc[j,:]\n",
    "        data3 = pd.concat([data3, a], axis=1, ignore_index = True)\n",
    "\n",
    "data3 = data3.T\n",
    "beta = data3.groupby('time').mean()\n",
    "beta.to_csv(r'E:\\\\Capstone Project\\\\Data\\\\paper\\\\pick201904beta.csv',index=True,sep=',')"
   ]
  },
  {
   "cell_type": "code",
   "execution_count": 10,
   "metadata": {},
   "outputs": [],
   "source": [
    "data = data3.round(6)"
   ]
  },
  {
   "cell_type": "code",
   "execution_count": 11,
   "metadata": {},
   "outputs": [],
   "source": [
    "beta1 = data.groupby('LocationID')['POP_beta'].mean()\n",
    "beta1.to_csv(r'E:\\\\Capstone Project\\\\Data\\\\paper\\\\pick201904beta1.csv',index=True,header = 0,sep=',')"
   ]
  },
  {
   "cell_type": "code",
   "execution_count": 12,
   "metadata": {},
   "outputs": [],
   "source": [
    "beta2 = data.groupby('LocationID')['COM_beta'].mean()\n",
    "beta2.to_csv(r'E:\\\\Capstone Project\\\\Data\\\\paper\\\\pick201904beta2.csv',index=True,header = 0,sep=',')"
   ]
  },
  {
   "cell_type": "code",
   "execution_count": 13,
   "metadata": {},
   "outputs": [],
   "source": [
    "beta3 = data.groupby('LocationID')['ROA_beta'].mean()\n",
    "beta3.to_csv(r'E:\\\\Capstone Project\\\\Data\\\\paper\\\\pick201904beta3.csv',index=True,header = 0,sep=',')"
   ]
  },
  {
   "cell_type": "code",
   "execution_count": 14,
   "metadata": {},
   "outputs": [
    {
     "data": {
      "text/html": [
       "<div>\n",
       "<style scoped>\n",
       "    .dataframe tbody tr th:only-of-type {\n",
       "        vertical-align: middle;\n",
       "    }\n",
       "\n",
       "    .dataframe tbody tr th {\n",
       "        vertical-align: top;\n",
       "    }\n",
       "\n",
       "    .dataframe thead th {\n",
       "        text-align: right;\n",
       "    }\n",
       "</style>\n",
       "<table border=\"1\" class=\"dataframe\">\n",
       "  <thead>\n",
       "    <tr style=\"text-align: right;\">\n",
       "      <th></th>\n",
       "      <th>0</th>\n",
       "      <th>1</th>\n",
       "      <th>2</th>\n",
       "      <th>3</th>\n",
       "    </tr>\n",
       "  </thead>\n",
       "  <tbody>\n",
       "    <tr>\n",
       "      <th>0</th>\n",
       "      <td>0.011398</td>\n",
       "      <td>0.003042</td>\n",
       "      <td>0.003807</td>\n",
       "      <td>-0.008522</td>\n",
       "    </tr>\n",
       "    <tr>\n",
       "      <th>1</th>\n",
       "      <td>0.001104</td>\n",
       "      <td>-0.008299</td>\n",
       "      <td>-0.004843</td>\n",
       "      <td>0.004787</td>\n",
       "    </tr>\n",
       "    <tr>\n",
       "      <th>2</th>\n",
       "      <td>-0.004697</td>\n",
       "      <td>-0.008908</td>\n",
       "      <td>-0.008340</td>\n",
       "      <td>0.007623</td>\n",
       "    </tr>\n",
       "    <tr>\n",
       "      <th>3</th>\n",
       "      <td>0.000509</td>\n",
       "      <td>-0.001189</td>\n",
       "      <td>-0.000536</td>\n",
       "      <td>-0.001032</td>\n",
       "    </tr>\n",
       "    <tr>\n",
       "      <th>4</th>\n",
       "      <td>0.000441</td>\n",
       "      <td>-0.001483</td>\n",
       "      <td>-0.000419</td>\n",
       "      <td>-0.001603</td>\n",
       "    </tr>\n",
       "    <tr>\n",
       "      <th>...</th>\n",
       "      <td>...</td>\n",
       "      <td>...</td>\n",
       "      <td>...</td>\n",
       "      <td>...</td>\n",
       "    </tr>\n",
       "    <tr>\n",
       "      <th>38708</th>\n",
       "      <td>15.714472</td>\n",
       "      <td>4.779201</td>\n",
       "      <td>-2.196707</td>\n",
       "      <td>1.476626</td>\n",
       "    </tr>\n",
       "    <tr>\n",
       "      <th>38709</th>\n",
       "      <td>16.124128</td>\n",
       "      <td>3.594318</td>\n",
       "      <td>-2.901644</td>\n",
       "      <td>1.671427</td>\n",
       "    </tr>\n",
       "    <tr>\n",
       "      <th>38710</th>\n",
       "      <td>14.795919</td>\n",
       "      <td>2.447223</td>\n",
       "      <td>-2.173462</td>\n",
       "      <td>3.746252</td>\n",
       "    </tr>\n",
       "    <tr>\n",
       "      <th>38711</th>\n",
       "      <td>8.394913</td>\n",
       "      <td>3.378580</td>\n",
       "      <td>-1.756046</td>\n",
       "      <td>0.140370</td>\n",
       "    </tr>\n",
       "    <tr>\n",
       "      <th>38712</th>\n",
       "      <td>7.272085</td>\n",
       "      <td>2.823723</td>\n",
       "      <td>-1.611093</td>\n",
       "      <td>0.923196</td>\n",
       "    </tr>\n",
       "  </tbody>\n",
       "</table>\n",
       "<p>38713 rows × 4 columns</p>\n",
       "</div>"
      ],
      "text/plain": [
       "               0         1         2         3\n",
       "0       0.011398  0.003042  0.003807 -0.008522\n",
       "1       0.001104 -0.008299 -0.004843  0.004787\n",
       "2      -0.004697 -0.008908 -0.008340  0.007623\n",
       "3       0.000509 -0.001189 -0.000536 -0.001032\n",
       "4       0.000441 -0.001483 -0.000419 -0.001603\n",
       "...          ...       ...       ...       ...\n",
       "38708  15.714472  4.779201 -2.196707  1.476626\n",
       "38709  16.124128  3.594318 -2.901644  1.671427\n",
       "38710  14.795919  2.447223 -2.173462  3.746252\n",
       "38711   8.394913  3.378580 -1.756046  0.140370\n",
       "38712   7.272085  2.823723 -1.611093  0.923196\n",
       "\n",
       "[38713 rows x 4 columns]"
      ]
     },
     "execution_count": 14,
     "metadata": {},
     "output_type": "execute_result"
    }
   ],
   "source": [
    "tvalues"
   ]
  },
  {
   "cell_type": "code",
   "execution_count": null,
   "metadata": {},
   "outputs": [],
   "source": []
  },
  {
   "cell_type": "code",
   "execution_count": null,
   "metadata": {},
   "outputs": [],
   "source": []
  }
 ],
 "metadata": {
  "kernelspec": {
   "display_name": "Python 3",
   "language": "python",
   "name": "python3"
  },
  "language_info": {
   "codemirror_mode": {
    "name": "ipython",
    "version": 3
   },
   "file_extension": ".py",
   "mimetype": "text/x-python",
   "name": "python",
   "nbconvert_exporter": "python",
   "pygments_lexer": "ipython3",
   "version": "3.7.6"
  }
 },
 "nbformat": 4,
 "nbformat_minor": 4
}
