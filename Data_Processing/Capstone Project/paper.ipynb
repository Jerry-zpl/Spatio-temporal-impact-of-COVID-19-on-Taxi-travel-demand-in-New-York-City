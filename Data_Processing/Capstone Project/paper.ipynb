{
 "cells": [
  {
   "cell_type": "code",
   "execution_count": 11,
   "metadata": {},
   "outputs": [],
   "source": [
    "import pandas as pd"
   ]
  },
  {
   "cell_type": "code",
   "execution_count": 6,
   "metadata": {},
   "outputs": [
    {
     "data": {
      "text/html": [
       "<div>\n",
       "<style scoped>\n",
       "    .dataframe tbody tr th:only-of-type {\n",
       "        vertical-align: middle;\n",
       "    }\n",
       "\n",
       "    .dataframe tbody tr th {\n",
       "        vertical-align: top;\n",
       "    }\n",
       "\n",
       "    .dataframe thead th {\n",
       "        text-align: right;\n",
       "    }\n",
       "</style>\n",
       "<table border=\"1\" class=\"dataframe\">\n",
       "  <thead>\n",
       "    <tr style=\"text-align: right;\">\n",
       "      <th></th>\n",
       "      <th>pickup_datetime</th>\n",
       "      <th>PULocationID</th>\n",
       "      <th>Freq</th>\n",
       "    </tr>\n",
       "  </thead>\n",
       "  <tbody>\n",
       "    <tr>\n",
       "      <th>0</th>\n",
       "      <td>2019-04-01 00</td>\n",
       "      <td>3</td>\n",
       "      <td>1</td>\n",
       "    </tr>\n",
       "    <tr>\n",
       "      <th>1</th>\n",
       "      <td>2019-04-01 00</td>\n",
       "      <td>4</td>\n",
       "      <td>11</td>\n",
       "    </tr>\n",
       "    <tr>\n",
       "      <th>2</th>\n",
       "      <td>2019-04-01 00</td>\n",
       "      <td>7</td>\n",
       "      <td>45</td>\n",
       "    </tr>\n",
       "    <tr>\n",
       "      <th>3</th>\n",
       "      <td>2019-04-01 00</td>\n",
       "      <td>10</td>\n",
       "      <td>2</td>\n",
       "    </tr>\n",
       "    <tr>\n",
       "      <th>4</th>\n",
       "      <td>2019-04-01 00</td>\n",
       "      <td>13</td>\n",
       "      <td>8</td>\n",
       "    </tr>\n",
       "    <tr>\n",
       "      <th>...</th>\n",
       "      <td>...</td>\n",
       "      <td>...</td>\n",
       "      <td>...</td>\n",
       "    </tr>\n",
       "    <tr>\n",
       "      <th>120662</th>\n",
       "      <td>2019-04-30 23</td>\n",
       "      <td>261</td>\n",
       "      <td>31</td>\n",
       "    </tr>\n",
       "    <tr>\n",
       "      <th>120663</th>\n",
       "      <td>2019-04-30 23</td>\n",
       "      <td>262</td>\n",
       "      <td>18</td>\n",
       "    </tr>\n",
       "    <tr>\n",
       "      <th>120664</th>\n",
       "      <td>2019-04-30 23</td>\n",
       "      <td>263</td>\n",
       "      <td>110</td>\n",
       "    </tr>\n",
       "    <tr>\n",
       "      <th>120665</th>\n",
       "      <td>2019-04-30 23</td>\n",
       "      <td>264</td>\n",
       "      <td>81</td>\n",
       "    </tr>\n",
       "    <tr>\n",
       "      <th>120666</th>\n",
       "      <td>2019-04-30 23</td>\n",
       "      <td>265</td>\n",
       "      <td>11</td>\n",
       "    </tr>\n",
       "  </tbody>\n",
       "</table>\n",
       "<p>120667 rows × 3 columns</p>\n",
       "</div>"
      ],
      "text/plain": [
       "       pickup_datetime  PULocationID  Freq\n",
       "0        2019-04-01 00             3     1\n",
       "1        2019-04-01 00             4    11\n",
       "2        2019-04-01 00             7    45\n",
       "3        2019-04-01 00            10     2\n",
       "4        2019-04-01 00            13     8\n",
       "...                ...           ...   ...\n",
       "120662   2019-04-30 23           261    31\n",
       "120663   2019-04-30 23           262    18\n",
       "120664   2019-04-30 23           263   110\n",
       "120665   2019-04-30 23           264    81\n",
       "120666   2019-04-30 23           265    11\n",
       "\n",
       "[120667 rows x 3 columns]"
      ]
     },
     "execution_count": 6,
     "metadata": {},
     "output_type": "execute_result"
    }
   ],
   "source": [
    "hours = pd.read_csv(\"E:\\\\Capstone Project\\\\experiment\\\\pick201904period1.csv\")\n",
    "hours = hours.rename(columns={'0':'Freq'})\n",
    "hours"
   ]
  },
  {
   "cell_type": "code",
   "execution_count": 7,
   "metadata": {},
   "outputs": [],
   "source": [
    "hour = hours.groupby('pickup_datetime').sum()"
   ]
  },
  {
   "cell_type": "code",
   "execution_count": 8,
   "metadata": {},
   "outputs": [
    {
     "data": {
      "text/html": [
       "<div>\n",
       "<style scoped>\n",
       "    .dataframe tbody tr th:only-of-type {\n",
       "        vertical-align: middle;\n",
       "    }\n",
       "\n",
       "    .dataframe tbody tr th {\n",
       "        vertical-align: top;\n",
       "    }\n",
       "\n",
       "    .dataframe thead th {\n",
       "        text-align: right;\n",
       "    }\n",
       "</style>\n",
       "<table border=\"1\" class=\"dataframe\">\n",
       "  <thead>\n",
       "    <tr style=\"text-align: right;\">\n",
       "      <th></th>\n",
       "      <th>PULocationID</th>\n",
       "      <th>Freq</th>\n",
       "    </tr>\n",
       "    <tr>\n",
       "      <th>pickup_datetime</th>\n",
       "      <th></th>\n",
       "      <th></th>\n",
       "    </tr>\n",
       "  </thead>\n",
       "  <tbody>\n",
       "    <tr>\n",
       "      <th>2019-04-01 00</th>\n",
       "      <td>19892</td>\n",
       "      <td>3475</td>\n",
       "    </tr>\n",
       "    <tr>\n",
       "      <th>2019-04-01 01</th>\n",
       "      <td>17356</td>\n",
       "      <td>1961</td>\n",
       "    </tr>\n",
       "    <tr>\n",
       "      <th>2019-04-01 02</th>\n",
       "      <td>16802</td>\n",
       "      <td>1286</td>\n",
       "    </tr>\n",
       "    <tr>\n",
       "      <th>2019-04-01 03</th>\n",
       "      <td>15358</td>\n",
       "      <td>867</td>\n",
       "    </tr>\n",
       "    <tr>\n",
       "      <th>2019-04-01 04</th>\n",
       "      <td>19830</td>\n",
       "      <td>1260</td>\n",
       "    </tr>\n",
       "    <tr>\n",
       "      <th>...</th>\n",
       "      <td>...</td>\n",
       "      <td>...</td>\n",
       "    </tr>\n",
       "    <tr>\n",
       "      <th>2019-04-30 19</th>\n",
       "      <td>21493</td>\n",
       "      <td>17003</td>\n",
       "    </tr>\n",
       "    <tr>\n",
       "      <th>2019-04-30 20</th>\n",
       "      <td>21664</td>\n",
       "      <td>16771</td>\n",
       "    </tr>\n",
       "    <tr>\n",
       "      <th>2019-04-30 21</th>\n",
       "      <td>22016</td>\n",
       "      <td>16641</td>\n",
       "    </tr>\n",
       "    <tr>\n",
       "      <th>2019-04-30 22</th>\n",
       "      <td>20183</td>\n",
       "      <td>15248</td>\n",
       "    </tr>\n",
       "    <tr>\n",
       "      <th>2019-04-30 23</th>\n",
       "      <td>18264</td>\n",
       "      <td>8479</td>\n",
       "    </tr>\n",
       "  </tbody>\n",
       "</table>\n",
       "<p>720 rows × 2 columns</p>\n",
       "</div>"
      ],
      "text/plain": [
       "                 PULocationID   Freq\n",
       "pickup_datetime                     \n",
       "2019-04-01 00           19892   3475\n",
       "2019-04-01 01           17356   1961\n",
       "2019-04-01 02           16802   1286\n",
       "2019-04-01 03           15358    867\n",
       "2019-04-01 04           19830   1260\n",
       "...                       ...    ...\n",
       "2019-04-30 19           21493  17003\n",
       "2019-04-30 20           21664  16771\n",
       "2019-04-30 21           22016  16641\n",
       "2019-04-30 22           20183  15248\n",
       "2019-04-30 23           18264   8479\n",
       "\n",
       "[720 rows x 2 columns]"
      ]
     },
     "execution_count": 8,
     "metadata": {},
     "output_type": "execute_result"
    }
   ],
   "source": [
    "hour"
   ]
  },
  {
   "cell_type": "code",
   "execution_count": 9,
   "metadata": {},
   "outputs": [],
   "source": [
    "hour.to_csv(r'E:\\\\Capstone Project\\\\Data\\\\paper\\\\pick201904hour.csv',index=True,sep=',')"
   ]
  },
  {
   "cell_type": "code",
   "execution_count": 12,
   "metadata": {},
   "outputs": [],
   "source": [
    "hours = pd.read_csv(\"E:\\\\Capstone Project\\\\experiment\\\\pick202004period1.csv\")\n",
    "hours = hours.rename(columns={'0':'Freq'})\n",
    "hour = hours.groupby('pickup_datetime').sum()\n",
    "hour.to_csv(r'E:\\\\Capstone Project\\\\Data\\\\paper\\\\pick202004hour.csv',index=True,sep=',')"
   ]
  },
  {
   "cell_type": "code",
   "execution_count": 15,
   "metadata": {},
   "outputs": [],
   "source": [
    "hours = pd.read_csv(\"E:\\\\Capstone Project\\\\experiment\\\\pick201904period3.csv\")\n",
    "hours = hours.rename(columns={'0':'Freq'})\n",
    "hour = hours.groupby('dropoff_datetime').sum()\n",
    "hour.to_csv(r'E:\\\\Capstone Project\\\\Data\\\\paper\\\\drop201904hour.csv',index=True,sep=',')"
   ]
  },
  {
   "cell_type": "code",
   "execution_count": 33,
   "metadata": {},
   "outputs": [
    {
     "name": "stderr",
     "output_type": "stream",
     "text": [
      "E:\\anaconda\\lib\\site-packages\\ipykernel_launcher.py:3: SettingWithCopyWarning: \n",
      "A value is trying to be set on a copy of a slice from a DataFrame.\n",
      "Try using .loc[row_indexer,col_indexer] = value instead\n",
      "\n",
      "See the caveats in the documentation: https://pandas.pydata.org/pandas-docs/stable/user_guide/indexing.html#returning-a-view-versus-a-copy\n",
      "  This is separate from the ipykernel package so we can avoid doing imports until\n"
     ]
    }
   ],
   "source": [
    "data = pd.read_csv(\"E:\\\\Capstone Project\\\\experiment\\\\201904.csv\")\n",
    "pick1 = data[[\"pickup_datetime\",\"PULocationID\"]]\n",
    "pick1['pickup_datetime'] = pick1['pickup_datetime'].apply(lambda x:x[0:13])\n",
    "period2 = pick1.groupby(['PULocationID','pickup_datetime']).size()\n",
    "period2.to_csv(r'E:\\\\Capstone Project\\\\experiment\\\\pick201904period2.csv',index=True,sep=',')\n",
    "Locations = pd.read_csv(\"E:\\\\Capstone Project\\\\experiment\\\\pick201904period2.csv\")\n",
    "Locations = Locations.rename(columns={'0':'Freq'})\n",
    "Location = Locations.groupby('PULocationID').sum()\n",
    "Location.to_csv(r'E:\\\\Capstone Project\\\\Data\\\\paper\\\\pick201904location.csv',index=True,sep=',')"
   ]
  },
  {
   "cell_type": "code",
   "execution_count": 35,
   "metadata": {},
   "outputs": [
    {
     "name": "stderr",
     "output_type": "stream",
     "text": [
      "E:\\anaconda\\lib\\site-packages\\ipykernel_launcher.py:3: SettingWithCopyWarning: \n",
      "A value is trying to be set on a copy of a slice from a DataFrame.\n",
      "Try using .loc[row_indexer,col_indexer] = value instead\n",
      "\n",
      "See the caveats in the documentation: https://pandas.pydata.org/pandas-docs/stable/user_guide/indexing.html#returning-a-view-versus-a-copy\n",
      "  This is separate from the ipykernel package so we can avoid doing imports until\n"
     ]
    }
   ],
   "source": [
    "data = pd.read_csv(\"E:\\\\Capstone Project\\\\experiment\\\\201904.csv\")\n",
    "drop1 = data[[\"dropoff_datetime\",\"DOLocationID\"]]\n",
    "drop1['dropoff_datetime'] = drop1['dropoff_datetime'].apply(lambda x:x[0:13])\n",
    "period4 = drop1.groupby(['DOLocationID','dropoff_datetime']).size()\n",
    "period4.to_csv(r'E:\\\\Capstone Project\\\\experiment\\\\drop201904period4.csv',index=True,sep=',')\n",
    "Locations = pd.read_csv(\"E:\\\\Capstone Project\\\\experiment\\\\drop201904period4.csv\")\n",
    "Locations = Locations.rename(columns={'0':'Freq'})\n",
    "Location = Locations.groupby('DOLocationID').sum()\n",
    "Location.to_csv(r'E:\\\\Capstone Project\\\\Data\\\\paper\\\\drop201904location.csv',index=True,sep=',')"
   ]
  },
  {
   "cell_type": "code",
   "execution_count": 36,
   "metadata": {},
   "outputs": [
    {
     "name": "stderr",
     "output_type": "stream",
     "text": [
      "E:\\anaconda\\lib\\site-packages\\ipykernel_launcher.py:3: SettingWithCopyWarning: \n",
      "A value is trying to be set on a copy of a slice from a DataFrame.\n",
      "Try using .loc[row_indexer,col_indexer] = value instead\n",
      "\n",
      "See the caveats in the documentation: https://pandas.pydata.org/pandas-docs/stable/user_guide/indexing.html#returning-a-view-versus-a-copy\n",
      "  This is separate from the ipykernel package so we can avoid doing imports until\n"
     ]
    }
   ],
   "source": [
    "data = pd.read_csv(\"E:\\\\Capstone Project\\\\experiment\\\\202004.csv\")\n",
    "pick1 = data[[\"pickup_datetime\",\"PULocationID\"]]\n",
    "pick1['pickup_datetime'] = pick1['pickup_datetime'].apply(lambda x:x[0:13])\n",
    "period2 = pick1.groupby(['PULocationID','pickup_datetime']).size()\n",
    "period2.to_csv(r'E:\\\\Capstone Project\\\\experiment\\\\pick202004period2.csv',index=True,sep=',')\n",
    "Locations = pd.read_csv(\"E:\\\\Capstone Project\\\\experiment\\\\pick202004period2.csv\")\n",
    "Locations = Locations.rename(columns={'0':'Freq'})\n",
    "Location = Locations.groupby('PULocationID').sum()\n",
    "Location.to_csv(r'E:\\\\Capstone Project\\\\Data\\\\paper\\\\pick202004location.csv',index=True,sep=',')"
   ]
  },
  {
   "cell_type": "code",
   "execution_count": 37,
   "metadata": {},
   "outputs": [
    {
     "name": "stderr",
     "output_type": "stream",
     "text": [
      "E:\\anaconda\\lib\\site-packages\\ipykernel_launcher.py:3: SettingWithCopyWarning: \n",
      "A value is trying to be set on a copy of a slice from a DataFrame.\n",
      "Try using .loc[row_indexer,col_indexer] = value instead\n",
      "\n",
      "See the caveats in the documentation: https://pandas.pydata.org/pandas-docs/stable/user_guide/indexing.html#returning-a-view-versus-a-copy\n",
      "  This is separate from the ipykernel package so we can avoid doing imports until\n"
     ]
    }
   ],
   "source": [
    "data = pd.read_csv(\"E:\\\\Capstone Project\\\\experiment\\\\202004.csv\")\n",
    "drop1 = data[[\"dropoff_datetime\",\"DOLocationID\"]]\n",
    "drop1['dropoff_datetime'] = drop1['dropoff_datetime'].apply(lambda x:x[0:13])\n",
    "period4 = drop1.groupby(['DOLocationID','dropoff_datetime']).size()\n",
    "period4.to_csv(r'E:\\\\Capstone Project\\\\experiment\\\\drop202004period4.csv',index=True,sep=',')\n",
    "Locations = pd.read_csv(\"E:\\\\Capstone Project\\\\experiment\\\\drop202004period4.csv\")\n",
    "Locations = Locations.rename(columns={'0':'Freq'})\n",
    "Location = Locations.groupby('DOLocationID').sum()\n",
    "Location.to_csv(r'E:\\\\Capstone Project\\\\Data\\\\paper\\\\drop202004location.csv',index=True,sep=',')"
   ]
  },
  {
   "cell_type": "code",
   "execution_count": null,
   "metadata": {},
   "outputs": [],
   "source": []
  }
 ],
 "metadata": {
  "kernelspec": {
   "display_name": "Python 3",
   "language": "python",
   "name": "python3"
  },
  "language_info": {
   "codemirror_mode": {
    "name": "ipython",
    "version": 3
   },
   "file_extension": ".py",
   "mimetype": "text/x-python",
   "name": "python",
   "nbconvert_exporter": "python",
   "pygments_lexer": "ipython3",
   "version": "3.7.6"
  }
 },
 "nbformat": 4,
 "nbformat_minor": 4
}
