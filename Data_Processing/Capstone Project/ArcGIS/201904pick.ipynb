{
 "cells": [
  {
   "cell_type": "code",
   "execution_count": 1,
   "metadata": {},
   "outputs": [],
   "source": [
    "import numpy as np\n",
    "import pandas as pd"
   ]
  },
  {
   "cell_type": "code",
   "execution_count": 42,
   "metadata": {},
   "outputs": [],
   "source": [
    "data = pd.read_csv(\"E:\\\\Capstone Project\\\\Data\\\\Taxi_area\\\\pick201904attributes.csv\")\n",
    "\n",
    "data1 = pd.DataFrame()\n",
    "for j in range(len(data)):\n",
    "    if data.iloc[j,0][8:10] == '06' or data.iloc[j,0][8:10] == '07' or data.iloc[j,0][8:10] == '13' or data.iloc[j,0][8:10] == '14' or data.iloc[j,0][8:10] == '20' or data.iloc[j,0][8:10] == '21' or data.iloc[j,0][8:10] == '27' or data.iloc[j,0][8:10] == '28':\n",
    "        a = data.iloc[j,:]\n",
    "        data1 = pd.concat([data1, a], axis=1, ignore_index = True)\n",
    "data1 = data1.T\n",
    "\n",
    "data1['periods'] = ''\n",
    "for j in range(len(data1)):\n",
    "    data1.loc[j,'periods'] = data1.loc[j,'time'][11]\n",
    "    \n",
    "data1.to_csv(r'E:\\\\Capstone Project\\\\Data\\\\ArcGIS\\\\pick201904weekend.csv',index=True,sep=',')\n",
    "data1 = pd.read_csv(\"E:\\\\Capstone Project\\\\Data\\\\ArcGIS\\\\pick201904weekend.csv\")\n",
    "data2 = data1.groupby(['periods','LocationID'])['Freq'].mean()\n",
    "data2.to_csv(r'E:\\\\Capstone Project\\\\experiment\\\\pick201904weekend.csv',index=True,sep=',')\n",
    "data2 = pd.read_csv(\"E:\\\\Capstone Project\\\\experiment\\\\pick201904weekend.csv\")\n",
    "\n",
    "taxi_area = pd.read_table(\"E:\\\\Capstone Project\\\\Data\\\\Taxi_area\\\\ZonalAttribute.txt\",sep = ',')\n",
    "area = taxi_area[['location_i','taxi_density','taxi_commercial','road_density']]\n",
    "area = area.rename(columns={'location_i':'LocationID','taxi_density':'pop_density','taxi_commercial':'commercial_density'})\n",
    "area['LocationID'] = pd.to_numeric(area['LocationID']).round(0).astype(int)\n",
    "\n",
    "data3 = pd.merge(data2, area, left_on='LocationID', right_on='LocationID' , how='left')\n",
    "\n",
    "coor = pd.read_table(\"E:\\\\Capstone Project\\\\Data\\\\Taxi_area\\\\Coordinate.txt\",sep = ',')\n",
    "coor = coor[['location_i','X','Y']]\n",
    "coor = coor.rename(columns={'location_i':'LocationID'})\n",
    "coor['LocationID'] = pd.to_numeric(coor['LocationID']).round(0).astype(int)\n",
    "data4 = pd.merge(data3, coor, left_on='LocationID', right_on='LocationID' , how='left')\n",
    "\n",
    "data4.to_csv(r'E:\\\\Capstone Project\\\\experiment\\\\pick201904weekend.csv',index=True,sep=',')"
   ]
  },
  {
   "cell_type": "code",
   "execution_count": 43,
   "metadata": {},
   "outputs": [],
   "source": [
    "data5 = pd.read_excel(\"E:\\\\Capstone Project\\\\experiment\\\\pick201904weekend.xlsx\")\n",
    "\n",
    "from sklearn import preprocessing\n",
    "\n",
    "scaler = preprocessing.StandardScaler()\n",
    "scaler.fit(data5[['pop_density','commercial_density','road_density']])\n",
    "data5[['pop_density','commercial_density','road_density']] = scaler.transform(data5[['pop_density','commercial_density','road_density']])\n",
    "\n",
    "data5.to_csv(r'E:\\\\Capstone Project\\\\Data\\\\ArcGIS\\\\pick201904weekend.csv',index=True,sep=',')"
   ]
  },
  {
   "cell_type": "code",
   "execution_count": 44,
   "metadata": {},
   "outputs": [],
   "source": [
    "data = pd.read_csv(\"E:\\\\Capstone Project\\\\Data\\\\Taxi_area\\\\pick201904attributes.csv\")\n",
    "\n",
    "data1 = pd.DataFrame()\n",
    "for j in range(len(data)):\n",
    "    if data.iloc[j,0][8:10] != '06' and data.iloc[j,0][8:10] != '07' and data.iloc[j,0][8:10] != '13' and data.iloc[j,0][8:10] != '14' and data.iloc[j,0][8:10] != '20' and data.iloc[j,0][8:10] != '21' and data.iloc[j,0][8:10] != '27' and data.iloc[j,0][8:10] != '28':\n",
    "        a = data.iloc[j,:]\n",
    "        data1 = pd.concat([data1, a], axis=1, ignore_index = True)\n",
    "data1 = data1.T\n",
    "\n",
    "data1['periods'] = ''\n",
    "for j in range(len(data1)):\n",
    "    data1.loc[j,'periods'] = data1.loc[j,'time'][11]\n",
    "    \n",
    "data1.to_csv(r'E:\\\\Capstone Project\\\\Data\\\\ArcGIS\\\\pick201904weekday.csv',index=True,sep=',')\n",
    "data1 = pd.read_csv(\"E:\\\\Capstone Project\\\\Data\\\\ArcGIS\\\\pick201904weekday.csv\")\n",
    "data2 = data1.groupby(['periods','LocationID'])['Freq'].mean()\n",
    "data2.to_csv(r'E:\\\\Capstone Project\\\\experiment\\\\pick201904weekday.csv',index=True,sep=',')\n",
    "data2 = pd.read_csv(\"E:\\\\Capstone Project\\\\experiment\\\\pick201904weekday.csv\")\n",
    "\n",
    "taxi_area = pd.read_table(\"E:\\\\Capstone Project\\\\Data\\\\Taxi_area\\\\ZonalAttribute.txt\",sep = ',')\n",
    "area = taxi_area[['location_i','taxi_density','taxi_commercial','road_density']]\n",
    "area = area.rename(columns={'location_i':'LocationID','taxi_density':'pop_density','taxi_commercial':'commercial_density'})\n",
    "area['LocationID'] = pd.to_numeric(area['LocationID']).round(0).astype(int)\n",
    "\n",
    "data3 = pd.merge(data2, area, left_on='LocationID', right_on='LocationID' , how='left')\n",
    "\n",
    "coor = pd.read_table(\"E:\\\\Capstone Project\\\\Data\\\\Taxi_area\\\\Coordinate.txt\",sep = ',')\n",
    "coor = coor[['location_i','X','Y']]\n",
    "coor = coor.rename(columns={'location_i':'LocationID'})\n",
    "coor['LocationID'] = pd.to_numeric(coor['LocationID']).round(0).astype(int)\n",
    "data4 = pd.merge(data3, coor, left_on='LocationID', right_on='LocationID' , how='left')\n",
    "\n",
    "data4.to_csv(r'E:\\\\Capstone Project\\\\experiment\\\\pick201904weekday.csv',index=True,sep=',')"
   ]
  },
  {
   "cell_type": "code",
   "execution_count": 45,
   "metadata": {},
   "outputs": [],
   "source": [
    "data5 = pd.read_excel(\"E:\\\\Capstone Project\\\\experiment\\\\pick201904weekday.xlsx\")\n",
    "\n",
    "from sklearn import preprocessing\n",
    "\n",
    "scaler = preprocessing.StandardScaler()\n",
    "scaler.fit(data5[['pop_density','commercial_density','road_density']])\n",
    "data5[['pop_density','commercial_density','road_density']] = scaler.transform(data5[['pop_density','commercial_density','road_density']])\n",
    "\n",
    "data5.to_csv(r'E:\\\\Capstone Project\\\\Data\\\\ArcGIS\\\\pick201904weekday.csv',index=True,sep=',')"
   ]
  },
  {
   "cell_type": "code",
   "execution_count": null,
   "metadata": {},
   "outputs": [],
   "source": []
  }
 ],
 "metadata": {
  "kernelspec": {
   "display_name": "Python 3",
   "language": "python",
   "name": "python3"
  },
  "language_info": {
   "codemirror_mode": {
    "name": "ipython",
    "version": 3
   },
   "file_extension": ".py",
   "mimetype": "text/x-python",
   "name": "python",
   "nbconvert_exporter": "python",
   "pygments_lexer": "ipython3",
   "version": "3.7.6"
  }
 },
 "nbformat": 4,
 "nbformat_minor": 4
}
