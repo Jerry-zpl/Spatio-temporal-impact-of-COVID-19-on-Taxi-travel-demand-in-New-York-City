{
 "cells": [
  {
   "cell_type": "code",
   "execution_count": 1,
   "metadata": {},
   "outputs": [],
   "source": [
    "import pandas as pd"
   ]
  },
  {
   "cell_type": "code",
   "execution_count": 2,
   "metadata": {},
   "outputs": [],
   "source": [
    "taxi = pd.read_table(\"E:\\\\Capstone Project\\\\Data\\\\Taxi\\\\taxi.txt\",sep = ',',thousands=',')"
   ]
  },
  {
   "cell_type": "code",
   "execution_count": 3,
   "metadata": {},
   "outputs": [],
   "source": [
    "beforepick = taxi[['OBJECTID_1','location_i','beforepickup_csv_Field3','taxi_density','taxi_commercial','road_density']]\n",
    "beforedrop = taxi[['OBJECTID_1','location_i','beforedropoff_csv_Field3','taxi_density','taxi_commercial','road_density']]\n",
    "afterpick = taxi[['OBJECTID_1','location_i','afterpickup_csv_Field3','taxi_density','taxi_commercial','road_density']]\n",
    "afterdrop = taxi[['OBJECTID_1','location_i','Field3','taxi_density','taxi_commercial','road_density']]"
   ]
  },
  {
   "cell_type": "code",
   "execution_count": 4,
   "metadata": {},
   "outputs": [],
   "source": [
    "beforepick = beforepick.rename(columns={'beforepickup_csv_Field3':'taxi_number'})\n",
    "beforedrop = beforedrop.rename(columns={'beforedropoff_csv_Field3':'taxi_number'})\n",
    "afterpick = afterpick.rename(columns={'afterpickup_csv_Field3':'taxi_number'})\n",
    "afterdrop = afterdrop.rename(columns={'Field3':'taxi_number'})"
   ]
  },
  {
   "cell_type": "code",
   "execution_count": 5,
   "metadata": {},
   "outputs": [],
   "source": [
    "beforepick = beforepick.drop( index = beforepick.taxi_number[beforepick.taxi_number == 0].index )\n",
    "beforedrop = beforedrop.drop( index = beforedrop.taxi_number[beforedrop.taxi_number == 0].index )\n",
    "afterpick = afterpick.drop( index = afterpick.taxi_number[afterpick.taxi_number == 0].index )\n",
    "afterdrop = afterdrop.drop( index = afterdrop.taxi_number[afterdrop.taxi_number == 0].index )"
   ]
  },
  {
   "cell_type": "code",
   "execution_count": 6,
   "metadata": {},
   "outputs": [],
   "source": [
    "from sklearn import preprocessing\n",
    "scaler = preprocessing.StandardScaler()\n",
    "\n",
    "scaler.fit(beforepick[['taxi_density','taxi_commercial','road_density']])\n",
    "beforepick[['taxi_density','taxi_commercial','road_density']] = scaler.transform(beforepick[['taxi_density','taxi_commercial','road_density']])\n",
    "\n",
    "scaler.fit(beforedrop[['taxi_density','taxi_commercial','road_density']])\n",
    "beforedrop[['taxi_density','taxi_commercial','road_density']] = scaler.transform(beforedrop[['taxi_density','taxi_commercial','road_density']])\n",
    "\n",
    "scaler.fit(afterpick[['taxi_density','taxi_commercial','road_density']])\n",
    "afterpick[['taxi_density','taxi_commercial','road_density']] = scaler.transform(afterpick[['taxi_density','taxi_commercial','road_density']])\n",
    "\n",
    "scaler.fit(afterdrop[['taxi_density','taxi_commercial','road_density']])\n",
    "afterdrop[['taxi_density','taxi_commercial','road_density']] = scaler.transform(afterdrop[['taxi_density','taxi_commercial','road_density']])"
   ]
  },
  {
   "cell_type": "code",
   "execution_count": 9,
   "metadata": {},
   "outputs": [],
   "source": [
    "import numpy as np\n",
    "beforepick[['taxi_number']] = np.log(beforepick[['taxi_number']])\n",
    "beforedrop[['taxi_number']] = np.log(beforepick[['taxi_number']])\n",
    "afterpick[['taxi_number']] = np.log(beforepick[['taxi_number']])\n",
    "afterdrop[['taxi_number']] = np.log(beforepick[['taxi_number']])"
   ]
  },
  {
   "cell_type": "code",
   "execution_count": 10,
   "metadata": {},
   "outputs": [
    {
     "name": "stderr",
     "output_type": "stream",
     "text": [
      "No handles with labels found to put in legend.\n"
     ]
    },
    {
     "data": {
      "text/plain": [
       "<matplotlib.legend.Legend at 0x1f706e6f448>"
      ]
     },
     "execution_count": 10,
     "metadata": {},
     "output_type": "execute_result"
    },
    {
     "data": {
      "image/png": "[encoded data removed]",
      "text/plain": [
       "<Figure size 432x288 with 1 Axes>"
      ]
     },
     "metadata": {
      "needs_background": "light"
     },
     "output_type": "display_data"
    }
   ],
   "source": [
    "import matplotlib.pyplot as plt\n",
    "\n",
    "import matplotlib as mpl\n",
    "\n",
    "fig,ax=plt.subplots(); \n",
    "ax.scatter(beforepick.taxi_number,beforepick.taxi_commercial)#ppt\n",
    "#ax.plot(data.time,data.occupancy*35,c='b')#为了显示效果，将占有率放大35倍\n",
    "#ax.set_xticks(range(1,21,2),minor=False);#设置刻度\n",
    "ax.legend(loc='lower left')"
   ]
  },
  {
   "cell_type": "code",
   "execution_count": 14,
   "metadata": {},
   "outputs": [
    {
     "data": {
      "text/html": [
       "<table class=\"simpletable\">\n",
       "<caption>OLS Regression Results</caption>\n",
       "<tr>\n",
       "  <th>Dep. Variable:</th>       <td>taxi_number</td>   <th>  R-squared:         </th> <td>   0.078</td>\n",
       "</tr>\n",
       "<tr>\n",
       "  <th>Model:</th>                   <td>OLS</td>       <th>  Adj. R-squared:    </th> <td>   0.067</td>\n",
       "</tr>\n",
       "<tr>\n",
       "  <th>Method:</th>             <td>Least Squares</td>  <th>  F-statistic:       </th> <td>   7.169</td>\n",
       "</tr>\n",
       "<tr>\n",
       "  <th>Date:</th>             <td>Tue, 06 Apr 2021</td> <th>  Prob (F-statistic):</th> <td>0.000122</td>\n",
       "</tr>\n",
       "<tr>\n",
       "  <th>Time:</th>                 <td>16:36:09</td>     <th>  Log-Likelihood:    </th> <td> -2777.0</td>\n",
       "</tr>\n",
       "<tr>\n",
       "  <th>No. Observations:</th>      <td>   259</td>      <th>  AIC:               </th> <td>   5562.</td>\n",
       "</tr>\n",
       "<tr>\n",
       "  <th>Df Residuals:</th>          <td>   255</td>      <th>  BIC:               </th> <td>   5576.</td>\n",
       "</tr>\n",
       "<tr>\n",
       "  <th>Df Model:</th>              <td>     3</td>      <th>                     </th>     <td> </td>   \n",
       "</tr>\n",
       "<tr>\n",
       "  <th>Covariance Type:</th>      <td>nonrobust</td>    <th>                     </th>     <td> </td>   \n",
       "</tr>\n",
       "</table>\n",
       "<table class=\"simpletable\">\n",
       "<tr>\n",
       "         <td></td>            <th>coef</th>     <th>std err</th>      <th>t</th>      <th>P>|t|</th>  <th>[0.025</th>    <th>0.975]</th>  \n",
       "</tr>\n",
       "<tr>\n",
       "  <th>Intercept</th>       <td> 6584.2819</td> <td>  687.182</td> <td>    9.582</td> <td> 0.000</td> <td> 5231.008</td> <td> 7937.556</td>\n",
       "</tr>\n",
       "<tr>\n",
       "  <th>taxi_density</th>    <td> 1141.2437</td> <td>  703.314</td> <td>    1.623</td> <td> 0.106</td> <td> -243.801</td> <td> 2526.288</td>\n",
       "</tr>\n",
       "<tr>\n",
       "  <th>taxi_commercial</th> <td>  360.8722</td> <td>  747.822</td> <td>    0.483</td> <td> 0.630</td> <td>-1111.821</td> <td> 1833.565</td>\n",
       "</tr>\n",
       "<tr>\n",
       "  <th>road_density</th>    <td> 2708.0517</td> <td>  748.913</td> <td>    3.616</td> <td> 0.000</td> <td> 1233.210</td> <td> 4182.894</td>\n",
       "</tr>\n",
       "</table>\n",
       "<table class=\"simpletable\">\n",
       "<tr>\n",
       "  <th>Omnibus:</th>       <td>146.477</td> <th>  Durbin-Watson:     </th> <td>   1.662</td> \n",
       "</tr>\n",
       "<tr>\n",
       "  <th>Prob(Omnibus):</th> <td> 0.000</td>  <th>  Jarque-Bera (JB):  </th> <td> 668.598</td> \n",
       "</tr>\n",
       "<tr>\n",
       "  <th>Skew:</th>          <td> 2.440</td>  <th>  Prob(JB):          </th> <td>6.54e-146</td>\n",
       "</tr>\n",
       "<tr>\n",
       "  <th>Kurtosis:</th>      <td> 9.176</td>  <th>  Cond. No.          </th> <td>    1.54</td> \n",
       "</tr>\n",
       "</table><br/><br/>Warnings:<br/>[1] Standard Errors assume that the covariance matrix of the errors is correctly specified."
      ],
      "text/plain": [
       "<class 'statsmodels.iolib.summary.Summary'>\n",
       "\"\"\"\n",
       "                            OLS Regression Results                            \n",
       "==============================================================================\n",
       "Dep. Variable:            taxi_number   R-squared:                       0.078\n",
       "Model:                            OLS   Adj. R-squared:                  0.067\n",
       "Method:                 Least Squares   F-statistic:                     7.169\n",
       "Date:                Tue, 06 Apr 2021   Prob (F-statistic):           0.000122\n",
       "Time:                        16:36:09   Log-Likelihood:                -2777.0\n",
       "No. Observations:                 259   AIC:                             5562.\n",
       "Df Residuals:                     255   BIC:                             5576.\n",
       "Df Model:                           3                                         \n",
       "Covariance Type:            nonrobust                                         \n",
       "===================================================================================\n",
       "                      coef    std err          t      P>|t|      [0.025      0.975]\n",
       "-----------------------------------------------------------------------------------\n",
       "Intercept        6584.2819    687.182      9.582      0.000    5231.008    7937.556\n",
       "taxi_density     1141.2437    703.314      1.623      0.106    -243.801    2526.288\n",
       "taxi_commercial   360.8722    747.822      0.483      0.630   -1111.821    1833.565\n",
       "road_density     2708.0517    748.913      3.616      0.000    1233.210    4182.894\n",
       "==============================================================================\n",
       "Omnibus:                      146.477   Durbin-Watson:                   1.662\n",
       "Prob(Omnibus):                  0.000   Jarque-Bera (JB):              668.598\n",
       "Skew:                           2.440   Prob(JB):                    6.54e-146\n",
       "Kurtosis:                       9.176   Cond. No.                         1.54\n",
       "==============================================================================\n",
       "\n",
       "Warnings:\n",
       "[1] Standard Errors assume that the covariance matrix of the errors is correctly specified.\n",
       "\"\"\""
      ]
     },
     "execution_count": 14,
     "metadata": {},
     "output_type": "execute_result"
    }
   ],
   "source": [
    "import statsmodels.formula.api as smf\n",
    "\n",
    "model = smf.ols('taxi_number~taxi_density+taxi_commercial+road_density', afterdrop).fit()\n",
    "model.summary()"
   ]
  },
  {
   "cell_type": "code",
   "execution_count": null,
   "metadata": {},
   "outputs": [],
   "source": [
    "#beforepick.to_csv(r'E:\\\\Capstone Project\\\\Data\\\\Taxi\\\\beforepick.csv',index=False,sep=',')"
   ]
  },
  {
   "cell_type": "code",
   "execution_count": null,
   "metadata": {},
   "outputs": [],
   "source": []
  }
 ],
 "metadata": {
  "kernelspec": {
   "display_name": "Python 3",
   "language": "python",
   "name": "python3"
  },
  "language_info": {
   "codemirror_mode": {
    "name": "ipython",
    "version": 3
   },
   "file_extension": ".py",
   "mimetype": "text/x-python",
   "name": "python",
   "nbconvert_exporter": "python",
   "pygments_lexer": "ipython3",
   "version": "3.7.6"
  }
 },
 "nbformat": 4,
 "nbformat_minor": 4
}
