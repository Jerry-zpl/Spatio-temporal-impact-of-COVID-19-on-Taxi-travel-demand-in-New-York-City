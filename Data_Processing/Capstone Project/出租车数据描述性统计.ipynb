{
 "cells": [
  {
   "cell_type": "code",
   "execution_count": 1,
   "metadata": {},
   "outputs": [],
   "source": [
    "import pandas as pd\n",
    "import datetime\n",
    "from datetime import timedelta\n",
    "import matplotlib.pyplot as plt"
   ]
  },
  {
   "cell_type": "code",
   "execution_count": 2,
   "metadata": {},
   "outputs": [
    {
     "data": {
      "text/html": [
       "<div>\n",
       "<style scoped>\n",
       "    .dataframe tbody tr th:only-of-type {\n",
       "        vertical-align: middle;\n",
       "    }\n",
       "\n",
       "    .dataframe tbody tr th {\n",
       "        vertical-align: top;\n",
       "    }\n",
       "\n",
       "    .dataframe thead th {\n",
       "        text-align: right;\n",
       "    }\n",
       "</style>\n",
       "<table border=\"1\" class=\"dataframe\">\n",
       "  <thead>\n",
       "    <tr style=\"text-align: right;\">\n",
       "      <th></th>\n",
       "      <th>pickup_datetime</th>\n",
       "      <th>dropoff_datetime</th>\n",
       "      <th>PULocationID</th>\n",
       "      <th>DOLocationID</th>\n",
       "    </tr>\n",
       "  </thead>\n",
       "  <tbody>\n",
       "    <tr>\n",
       "      <th>0</th>\n",
       "      <td>2019-12-01 00:26:58</td>\n",
       "      <td>2019-12-01 00:41:45</td>\n",
       "      <td>142</td>\n",
       "      <td>116</td>\n",
       "    </tr>\n",
       "    <tr>\n",
       "      <th>1</th>\n",
       "      <td>2019-12-01 00:12:08</td>\n",
       "      <td>2019-12-01 00:12:14</td>\n",
       "      <td>145</td>\n",
       "      <td>145</td>\n",
       "    </tr>\n",
       "    <tr>\n",
       "      <th>2</th>\n",
       "      <td>2019-12-01 00:25:53</td>\n",
       "      <td>2019-12-01 00:26:04</td>\n",
       "      <td>145</td>\n",
       "      <td>145</td>\n",
       "    </tr>\n",
       "    <tr>\n",
       "      <th>3</th>\n",
       "      <td>2019-12-01 00:12:03</td>\n",
       "      <td>2019-12-01 00:33:19</td>\n",
       "      <td>138</td>\n",
       "      <td>25</td>\n",
       "    </tr>\n",
       "    <tr>\n",
       "      <th>4</th>\n",
       "      <td>2019-12-01 00:05:27</td>\n",
       "      <td>2019-12-01 00:16:32</td>\n",
       "      <td>161</td>\n",
       "      <td>237</td>\n",
       "    </tr>\n",
       "    <tr>\n",
       "      <th>...</th>\n",
       "      <td>...</td>\n",
       "      <td>...</td>\n",
       "      <td>...</td>\n",
       "      <td>...</td>\n",
       "    </tr>\n",
       "    <tr>\n",
       "      <th>25420606</th>\n",
       "      <td>2020-06-30 23:03:00</td>\n",
       "      <td>2020-06-30 23:29:00</td>\n",
       "      <td>82</td>\n",
       "      <td>39</td>\n",
       "    </tr>\n",
       "    <tr>\n",
       "      <th>25420607</th>\n",
       "      <td>2020-06-30 23:33:00</td>\n",
       "      <td>2020-07-01 00:08:00</td>\n",
       "      <td>20</td>\n",
       "      <td>225</td>\n",
       "    </tr>\n",
       "    <tr>\n",
       "      <th>25420608</th>\n",
       "      <td>2020-06-30 23:32:00</td>\n",
       "      <td>2020-06-30 23:55:00</td>\n",
       "      <td>244</td>\n",
       "      <td>212</td>\n",
       "    </tr>\n",
       "    <tr>\n",
       "      <th>25420609</th>\n",
       "      <td>2020-06-30 23:17:00</td>\n",
       "      <td>2020-07-01 00:08:00</td>\n",
       "      <td>206</td>\n",
       "      <td>86</td>\n",
       "    </tr>\n",
       "    <tr>\n",
       "      <th>25420610</th>\n",
       "      <td>2020-06-30 23:25:00</td>\n",
       "      <td>2020-06-30 23:50:00</td>\n",
       "      <td>177</td>\n",
       "      <td>260</td>\n",
       "    </tr>\n",
       "  </tbody>\n",
       "</table>\n",
       "<p>25420611 rows × 4 columns</p>\n",
       "</div>"
      ],
      "text/plain": [
       "              pickup_datetime     dropoff_datetime  PULocationID  DOLocationID\n",
       "0         2019-12-01 00:26:58  2019-12-01 00:41:45           142           116\n",
       "1         2019-12-01 00:12:08  2019-12-01 00:12:14           145           145\n",
       "2         2019-12-01 00:25:53  2019-12-01 00:26:04           145           145\n",
       "3         2019-12-01 00:12:03  2019-12-01 00:33:19           138            25\n",
       "4         2019-12-01 00:05:27  2019-12-01 00:16:32           161           237\n",
       "...                       ...                  ...           ...           ...\n",
       "25420606  2020-06-30 23:03:00  2020-06-30 23:29:00            82            39\n",
       "25420607  2020-06-30 23:33:00  2020-07-01 00:08:00            20           225\n",
       "25420608  2020-06-30 23:32:00  2020-06-30 23:55:00           244           212\n",
       "25420609  2020-06-30 23:17:00  2020-07-01 00:08:00           206            86\n",
       "25420610  2020-06-30 23:25:00  2020-06-30 23:50:00           177           260\n",
       "\n",
       "[25420611 rows x 4 columns]"
      ]
     },
     "execution_count": 2,
     "metadata": {},
     "output_type": "execute_result"
    }
   ],
   "source": [
    "data = pd.read_csv(\"E:\\\\Capstone Project\\\\Raw_Data\\\\Taxi\\\\data.csv\")\n",
    "data"
   ]
  },
  {
   "cell_type": "code",
   "execution_count": 3,
   "metadata": {},
   "outputs": [
    {
     "name": "stdout",
     "output_type": "stream",
     "text": [
      "Empty DataFrame\n",
      "Columns: [pickup_datetime, dropoff_datetime, PULocationID, DOLocationID]\n",
      "Index: []\n"
     ]
    }
   ],
   "source": [
    "print(data[data.isnull().values==True])"
   ]
  },
  {
   "cell_type": "code",
   "execution_count": 4,
   "metadata": {},
   "outputs": [
    {
     "data": {
      "text/html": [
       "<div>\n",
       "<style scoped>\n",
       "    .dataframe tbody tr th:only-of-type {\n",
       "        vertical-align: middle;\n",
       "    }\n",
       "\n",
       "    .dataframe tbody tr th {\n",
       "        vertical-align: top;\n",
       "    }\n",
       "\n",
       "    .dataframe thead th {\n",
       "        text-align: right;\n",
       "    }\n",
       "</style>\n",
       "<table border=\"1\" class=\"dataframe\">\n",
       "  <thead>\n",
       "    <tr style=\"text-align: right;\">\n",
       "      <th></th>\n",
       "      <th>pickup_datetime</th>\n",
       "      <th>dropoff_datetime</th>\n",
       "      <th>PULocationID</th>\n",
       "      <th>DOLocationID</th>\n",
       "    </tr>\n",
       "  </thead>\n",
       "  <tbody>\n",
       "    <tr>\n",
       "      <th>0</th>\n",
       "      <td>2019-12-01 00:26:58</td>\n",
       "      <td>2019-12-01 00:41:45</td>\n",
       "      <td>142</td>\n",
       "      <td>116</td>\n",
       "    </tr>\n",
       "    <tr>\n",
       "      <th>1</th>\n",
       "      <td>2019-12-01 00:12:08</td>\n",
       "      <td>2019-12-01 00:12:14</td>\n",
       "      <td>145</td>\n",
       "      <td>145</td>\n",
       "    </tr>\n",
       "    <tr>\n",
       "      <th>2</th>\n",
       "      <td>2019-12-01 00:25:53</td>\n",
       "      <td>2019-12-01 00:26:04</td>\n",
       "      <td>145</td>\n",
       "      <td>145</td>\n",
       "    </tr>\n",
       "    <tr>\n",
       "      <th>3</th>\n",
       "      <td>2019-12-01 00:12:03</td>\n",
       "      <td>2019-12-01 00:33:19</td>\n",
       "      <td>138</td>\n",
       "      <td>25</td>\n",
       "    </tr>\n",
       "    <tr>\n",
       "      <th>4</th>\n",
       "      <td>2019-12-01 00:05:27</td>\n",
       "      <td>2019-12-01 00:16:32</td>\n",
       "      <td>161</td>\n",
       "      <td>237</td>\n",
       "    </tr>\n",
       "    <tr>\n",
       "      <th>...</th>\n",
       "      <td>...</td>\n",
       "      <td>...</td>\n",
       "      <td>...</td>\n",
       "      <td>...</td>\n",
       "    </tr>\n",
       "    <tr>\n",
       "      <th>25420606</th>\n",
       "      <td>2020-06-30 23:03:00</td>\n",
       "      <td>2020-06-30 23:29:00</td>\n",
       "      <td>82</td>\n",
       "      <td>39</td>\n",
       "    </tr>\n",
       "    <tr>\n",
       "      <th>25420607</th>\n",
       "      <td>2020-06-30 23:33:00</td>\n",
       "      <td>2020-07-01 00:08:00</td>\n",
       "      <td>20</td>\n",
       "      <td>225</td>\n",
       "    </tr>\n",
       "    <tr>\n",
       "      <th>25420608</th>\n",
       "      <td>2020-06-30 23:32:00</td>\n",
       "      <td>2020-06-30 23:55:00</td>\n",
       "      <td>244</td>\n",
       "      <td>212</td>\n",
       "    </tr>\n",
       "    <tr>\n",
       "      <th>25420609</th>\n",
       "      <td>2020-06-30 23:17:00</td>\n",
       "      <td>2020-07-01 00:08:00</td>\n",
       "      <td>206</td>\n",
       "      <td>86</td>\n",
       "    </tr>\n",
       "    <tr>\n",
       "      <th>25420610</th>\n",
       "      <td>2020-06-30 23:25:00</td>\n",
       "      <td>2020-06-30 23:50:00</td>\n",
       "      <td>177</td>\n",
       "      <td>260</td>\n",
       "    </tr>\n",
       "  </tbody>\n",
       "</table>\n",
       "<p>25420611 rows × 4 columns</p>\n",
       "</div>"
      ],
      "text/plain": [
       "             pickup_datetime    dropoff_datetime  PULocationID  DOLocationID\n",
       "0        2019-12-01 00:26:58 2019-12-01 00:41:45           142           116\n",
       "1        2019-12-01 00:12:08 2019-12-01 00:12:14           145           145\n",
       "2        2019-12-01 00:25:53 2019-12-01 00:26:04           145           145\n",
       "3        2019-12-01 00:12:03 2019-12-01 00:33:19           138            25\n",
       "4        2019-12-01 00:05:27 2019-12-01 00:16:32           161           237\n",
       "...                      ...                 ...           ...           ...\n",
       "25420606 2020-06-30 23:03:00 2020-06-30 23:29:00            82            39\n",
       "25420607 2020-06-30 23:33:00 2020-07-01 00:08:00            20           225\n",
       "25420608 2020-06-30 23:32:00 2020-06-30 23:55:00           244           212\n",
       "25420609 2020-06-30 23:17:00 2020-07-01 00:08:00           206            86\n",
       "25420610 2020-06-30 23:25:00 2020-06-30 23:50:00           177           260\n",
       "\n",
       "[25420611 rows x 4 columns]"
      ]
     },
     "execution_count": 4,
     "metadata": {},
     "output_type": "execute_result"
    }
   ],
   "source": [
    "data[\"pickup_datetime\"] = pd.to_datetime(data[\"pickup_datetime\"],format='%Y-%m-%d')\n",
    "data[\"dropoff_datetime\"] = pd.to_datetime(data[\"dropoff_datetime\"],format='%Y-%m-%d')\n",
    "data"
   ]
  },
  {
   "cell_type": "code",
   "execution_count": 5,
   "metadata": {},
   "outputs": [
    {
     "data": {
      "text/html": [
       "<div>\n",
       "<style scoped>\n",
       "    .dataframe tbody tr th:only-of-type {\n",
       "        vertical-align: middle;\n",
       "    }\n",
       "\n",
       "    .dataframe tbody tr th {\n",
       "        vertical-align: top;\n",
       "    }\n",
       "\n",
       "    .dataframe thead th {\n",
       "        text-align: right;\n",
       "    }\n",
       "</style>\n",
       "<table border=\"1\" class=\"dataframe\">\n",
       "  <thead>\n",
       "    <tr style=\"text-align: right;\">\n",
       "      <th></th>\n",
       "      <th>pickup_datetime</th>\n",
       "      <th>dropoff_datetime</th>\n",
       "      <th>PULocationID</th>\n",
       "      <th>DOLocationID</th>\n",
       "    </tr>\n",
       "  </thead>\n",
       "  <tbody>\n",
       "    <tr>\n",
       "      <th>0</th>\n",
       "      <td>2019-12-01</td>\n",
       "      <td>2019-12-01</td>\n",
       "      <td>142</td>\n",
       "      <td>116</td>\n",
       "    </tr>\n",
       "    <tr>\n",
       "      <th>1</th>\n",
       "      <td>2019-12-01</td>\n",
       "      <td>2019-12-01</td>\n",
       "      <td>145</td>\n",
       "      <td>145</td>\n",
       "    </tr>\n",
       "    <tr>\n",
       "      <th>2</th>\n",
       "      <td>2019-12-01</td>\n",
       "      <td>2019-12-01</td>\n",
       "      <td>145</td>\n",
       "      <td>145</td>\n",
       "    </tr>\n",
       "    <tr>\n",
       "      <th>3</th>\n",
       "      <td>2019-12-01</td>\n",
       "      <td>2019-12-01</td>\n",
       "      <td>138</td>\n",
       "      <td>25</td>\n",
       "    </tr>\n",
       "    <tr>\n",
       "      <th>4</th>\n",
       "      <td>2019-12-01</td>\n",
       "      <td>2019-12-01</td>\n",
       "      <td>161</td>\n",
       "      <td>237</td>\n",
       "    </tr>\n",
       "    <tr>\n",
       "      <th>...</th>\n",
       "      <td>...</td>\n",
       "      <td>...</td>\n",
       "      <td>...</td>\n",
       "      <td>...</td>\n",
       "    </tr>\n",
       "    <tr>\n",
       "      <th>25420606</th>\n",
       "      <td>2020-06-30</td>\n",
       "      <td>2020-06-30</td>\n",
       "      <td>82</td>\n",
       "      <td>39</td>\n",
       "    </tr>\n",
       "    <tr>\n",
       "      <th>25420607</th>\n",
       "      <td>2020-06-30</td>\n",
       "      <td>2020-07-01</td>\n",
       "      <td>20</td>\n",
       "      <td>225</td>\n",
       "    </tr>\n",
       "    <tr>\n",
       "      <th>25420608</th>\n",
       "      <td>2020-06-30</td>\n",
       "      <td>2020-06-30</td>\n",
       "      <td>244</td>\n",
       "      <td>212</td>\n",
       "    </tr>\n",
       "    <tr>\n",
       "      <th>25420609</th>\n",
       "      <td>2020-06-30</td>\n",
       "      <td>2020-07-01</td>\n",
       "      <td>206</td>\n",
       "      <td>86</td>\n",
       "    </tr>\n",
       "    <tr>\n",
       "      <th>25420610</th>\n",
       "      <td>2020-06-30</td>\n",
       "      <td>2020-06-30</td>\n",
       "      <td>177</td>\n",
       "      <td>260</td>\n",
       "    </tr>\n",
       "  </tbody>\n",
       "</table>\n",
       "<p>25420611 rows × 4 columns</p>\n",
       "</div>"
      ],
      "text/plain": [
       "         pickup_datetime dropoff_datetime  PULocationID  DOLocationID\n",
       "0             2019-12-01       2019-12-01           142           116\n",
       "1             2019-12-01       2019-12-01           145           145\n",
       "2             2019-12-01       2019-12-01           145           145\n",
       "3             2019-12-01       2019-12-01           138            25\n",
       "4             2019-12-01       2019-12-01           161           237\n",
       "...                  ...              ...           ...           ...\n",
       "25420606      2020-06-30       2020-06-30            82            39\n",
       "25420607      2020-06-30       2020-07-01            20           225\n",
       "25420608      2020-06-30       2020-06-30           244           212\n",
       "25420609      2020-06-30       2020-07-01           206            86\n",
       "25420610      2020-06-30       2020-06-30           177           260\n",
       "\n",
       "[25420611 rows x 4 columns]"
      ]
     },
     "execution_count": 5,
     "metadata": {},
     "output_type": "execute_result"
    }
   ],
   "source": [
    "data[\"pickup_datetime\"] = data[\"pickup_datetime\"].dt.date\n",
    "data[\"dropoff_datetime\"] = data[\"dropoff_datetime\"].dt.date\n",
    "data"
   ]
  },
  {
   "cell_type": "code",
   "execution_count": 6,
   "metadata": {
    "scrolled": true
   },
   "outputs": [
    {
     "data": {
      "text/html": [
       "<div>\n",
       "<style scoped>\n",
       "    .dataframe tbody tr th:only-of-type {\n",
       "        vertical-align: middle;\n",
       "    }\n",
       "\n",
       "    .dataframe tbody tr th {\n",
       "        vertical-align: top;\n",
       "    }\n",
       "\n",
       "    .dataframe thead th {\n",
       "        text-align: right;\n",
       "    }\n",
       "</style>\n",
       "<table border=\"1\" class=\"dataframe\">\n",
       "  <thead>\n",
       "    <tr style=\"text-align: right;\">\n",
       "      <th></th>\n",
       "      <th>pickup_datetime</th>\n",
       "      <th>dropoff_datetime</th>\n",
       "      <th>PULocationID</th>\n",
       "      <th>DOLocationID</th>\n",
       "    </tr>\n",
       "  </thead>\n",
       "  <tbody>\n",
       "    <tr>\n",
       "      <th>0</th>\n",
       "      <td>2019-12-01</td>\n",
       "      <td>2019-12-01</td>\n",
       "      <td>142</td>\n",
       "      <td>116</td>\n",
       "    </tr>\n",
       "    <tr>\n",
       "      <th>1</th>\n",
       "      <td>2019-12-01</td>\n",
       "      <td>2019-12-01</td>\n",
       "      <td>145</td>\n",
       "      <td>145</td>\n",
       "    </tr>\n",
       "    <tr>\n",
       "      <th>2</th>\n",
       "      <td>2019-12-01</td>\n",
       "      <td>2019-12-01</td>\n",
       "      <td>145</td>\n",
       "      <td>145</td>\n",
       "    </tr>\n",
       "    <tr>\n",
       "      <th>3</th>\n",
       "      <td>2019-12-01</td>\n",
       "      <td>2019-12-01</td>\n",
       "      <td>138</td>\n",
       "      <td>25</td>\n",
       "    </tr>\n",
       "    <tr>\n",
       "      <th>4</th>\n",
       "      <td>2019-12-01</td>\n",
       "      <td>2019-12-01</td>\n",
       "      <td>161</td>\n",
       "      <td>237</td>\n",
       "    </tr>\n",
       "    <tr>\n",
       "      <th>...</th>\n",
       "      <td>...</td>\n",
       "      <td>...</td>\n",
       "      <td>...</td>\n",
       "      <td>...</td>\n",
       "    </tr>\n",
       "    <tr>\n",
       "      <th>25420604</th>\n",
       "      <td>2020-06-30</td>\n",
       "      <td>2020-06-30</td>\n",
       "      <td>254</td>\n",
       "      <td>168</td>\n",
       "    </tr>\n",
       "    <tr>\n",
       "      <th>25420605</th>\n",
       "      <td>2020-06-30</td>\n",
       "      <td>2020-06-30</td>\n",
       "      <td>35</td>\n",
       "      <td>119</td>\n",
       "    </tr>\n",
       "    <tr>\n",
       "      <th>25420606</th>\n",
       "      <td>2020-06-30</td>\n",
       "      <td>2020-06-30</td>\n",
       "      <td>82</td>\n",
       "      <td>39</td>\n",
       "    </tr>\n",
       "    <tr>\n",
       "      <th>25420608</th>\n",
       "      <td>2020-06-30</td>\n",
       "      <td>2020-06-30</td>\n",
       "      <td>244</td>\n",
       "      <td>212</td>\n",
       "    </tr>\n",
       "    <tr>\n",
       "      <th>25420610</th>\n",
       "      <td>2020-06-30</td>\n",
       "      <td>2020-06-30</td>\n",
       "      <td>177</td>\n",
       "      <td>260</td>\n",
       "    </tr>\n",
       "  </tbody>\n",
       "</table>\n",
       "<p>25420107 rows × 4 columns</p>\n",
       "</div>"
      ],
      "text/plain": [
       "         pickup_datetime dropoff_datetime  PULocationID  DOLocationID\n",
       "0             2019-12-01       2019-12-01           142           116\n",
       "1             2019-12-01       2019-12-01           145           145\n",
       "2             2019-12-01       2019-12-01           145           145\n",
       "3             2019-12-01       2019-12-01           138            25\n",
       "4             2019-12-01       2019-12-01           161           237\n",
       "...                  ...              ...           ...           ...\n",
       "25420604      2020-06-30       2020-06-30           254           168\n",
       "25420605      2020-06-30       2020-06-30            35           119\n",
       "25420606      2020-06-30       2020-06-30            82            39\n",
       "25420608      2020-06-30       2020-06-30           244           212\n",
       "25420610      2020-06-30       2020-06-30           177           260\n",
       "\n",
       "[25420107 rows x 4 columns]"
      ]
     },
     "execution_count": 6,
     "metadata": {},
     "output_type": "execute_result"
    }
   ],
   "source": [
    "data = data[(data[\"pickup_datetime\"] >=pd.to_datetime('20191201')) & (data[\"pickup_datetime\"] <= pd.to_datetime('20200630'))]\n",
    "data = data[(data[\"dropoff_datetime\"] >=pd.to_datetime('20191201')) & (data[\"dropoff_datetime\"] <= pd.to_datetime('20200630'))]\n",
    "data"
   ]
  },
  {
   "cell_type": "code",
   "execution_count": 7,
   "metadata": {},
   "outputs": [
    {
     "data": {
      "text/plain": [
       "pickup_datetime\n",
       "2019-12-01    193722\n",
       "2019-12-02    222453\n",
       "2019-12-03    264440\n",
       "2019-12-04    266866\n",
       "2019-12-05    289517\n",
       "               ...  \n",
       "2020-06-26     28878\n",
       "2020-06-27     19018\n",
       "2020-06-28     16632\n",
       "2020-06-29     27211\n",
       "2020-06-30     27451\n",
       "Length: 213, dtype: int64"
      ]
     },
     "execution_count": 7,
     "metadata": {},
     "output_type": "execute_result"
    }
   ],
   "source": [
    "day = data.groupby(\"pickup_datetime\").size()\n",
    "day"
   ]
  },
  {
   "cell_type": "code",
   "execution_count": 8,
   "metadata": {},
   "outputs": [
    {
     "data": {
      "image/png": "[encoded data removed]",
      "text/plain": [
       "<Figure size 432x288 with 1 Axes>"
      ]
     },
     "metadata": {
      "needs_background": "light"
     },
     "output_type": "display_data"
    }
   ],
   "source": [
    "plt.plot(day)\n",
    "plt.xlabel('date')\n",
    "plt.ylabel('times')\n",
    "plt.show()"
   ]
  },
  {
   "cell_type": "code",
   "execution_count": 9,
   "metadata": {},
   "outputs": [],
   "source": [
    "before = data[(data[\"pickup_datetime\"] >=pd.to_datetime('20191201')) & (data[\"pickup_datetime\"] <= pd.to_datetime('20200314'))]\n",
    "after = data[(data[\"pickup_datetime\"] >=pd.to_datetime('20200315')) & (data[\"pickup_datetime\"] <= pd.to_datetime('20200630'))]"
   ]
  },
  {
   "cell_type": "code",
   "execution_count": 10,
   "metadata": {},
   "outputs": [
    {
     "data": {
      "text/plain": [
       "15944.5"
      ]
     },
     "execution_count": 10,
     "metadata": {},
     "output_type": "execute_result"
    }
   ],
   "source": [
    "aftermean = after.groupby(\"pickup_datetime\").size().mean()\n",
    "aftermean"
   ]
  },
  {
   "cell_type": "code",
   "execution_count": 11,
   "metadata": {},
   "outputs": [
    {
     "data": {
      "text/plain": [
       "225696.2"
      ]
     },
     "execution_count": 11,
     "metadata": {},
     "output_type": "execute_result"
    }
   ],
   "source": [
    "beforemean = before.groupby(\"pickup_datetime\").size().mean()\n",
    "beforemean"
   ]
  },
  {
   "cell_type": "code",
   "execution_count": 12,
   "metadata": {},
   "outputs": [
    {
     "data": {
      "text/plain": [
       "PULocationID\n",
       "1        2617\n",
       "2          22\n",
       "3        2112\n",
       "4       37501\n",
       "5          95\n",
       "        ...  \n",
       "261    126067\n",
       "262    292780\n",
       "263    430730\n",
       "264    155017\n",
       "265     12408\n",
       "Length: 261, dtype: int64"
      ]
     },
     "execution_count": 12,
     "metadata": {},
     "output_type": "execute_result"
    }
   ],
   "source": [
    "beforepickup = before.groupby(\"PULocationID\").size()\n",
    "beforepickup"
   ]
  },
  {
   "cell_type": "code",
   "execution_count": 13,
   "metadata": {},
   "outputs": [
    {
     "data": {
      "text/plain": [
       "PULocationID\n",
       "1        113\n",
       "2          4\n",
       "3        635\n",
       "4       2121\n",
       "5         10\n",
       "       ...  \n",
       "261     3497\n",
       "262    25918\n",
       "263    52659\n",
       "264    12200\n",
       "265     2069\n",
       "Length: 261, dtype: int64"
      ]
     },
     "execution_count": 13,
     "metadata": {},
     "output_type": "execute_result"
    }
   ],
   "source": [
    "afterpickup = after.groupby(\"PULocationID\").size()\n",
    "afterpickup"
   ]
  },
  {
   "cell_type": "code",
   "execution_count": 14,
   "metadata": {},
   "outputs": [
    {
     "data": {
      "text/plain": [
       "DOLocationID\n",
       "1       45512\n",
       "2          52\n",
       "3        3530\n",
       "4       93463\n",
       "5         251\n",
       "        ...  \n",
       "261    103422\n",
       "262    321156\n",
       "263    450967\n",
       "264    142137\n",
       "265     56383\n",
       "Length: 262, dtype: int64"
      ]
     },
     "execution_count": 14,
     "metadata": {},
     "output_type": "execute_result"
    }
   ],
   "source": [
    "beforedropoff = before.groupby(\"DOLocationID\").size()\n",
    "beforedropoff"
   ]
  },
  {
   "cell_type": "code",
   "execution_count": 15,
   "metadata": {
    "scrolled": true
   },
   "outputs": [
    {
     "data": {
      "text/plain": [
       "DOLocationID\n",
       "1       1448\n",
       "2         10\n",
       "3        894\n",
       "4       8861\n",
       "5         38\n",
       "       ...  \n",
       "261     3471\n",
       "262    25499\n",
       "263    42168\n",
       "264    11464\n",
       "265     7203\n",
       "Length: 261, dtype: int64"
      ]
     },
     "execution_count": 15,
     "metadata": {},
     "output_type": "execute_result"
    }
   ],
   "source": [
    "afterdropoff = after.groupby(\"DOLocationID\").size()\n",
    "afterdropoff"
   ]
  },
  {
   "cell_type": "code",
   "execution_count": 16,
   "metadata": {},
   "outputs": [],
   "source": [
    "beforepickup = beforepickup.to_frame().reset_index()\n",
    "afterpickup = afterpickup.to_frame().reset_index()\n",
    "beforedropoff = beforedropoff.to_frame().reset_index()\n",
    "afterdropoff = afterdropoff.to_frame().reset_index()"
   ]
  },
  {
   "cell_type": "code",
   "execution_count": 17,
   "metadata": {},
   "outputs": [],
   "source": [
    "beforepickup.to_csv(r'E:\\\\Capstone Project\\\\Data\\\\Taxi\\\\beforepickup.csv',index=True,header = 0, sep=',')\n",
    "afterpickup.to_csv(r'E:\\\\Capstone Project\\\\Data\\\\Taxi\\\\afterpickup.csv',index=True,header = 0, sep=',')\n",
    "beforedropoff.to_csv(r'E:\\\\Capstone Project\\\\Data\\\\Taxi\\\\beforedropoff.csv',index=True,header = 0, sep=',')\n",
    "afterdropoff.to_csv(r'E:\\\\Capstone Project\\\\Data\\\\Taxi\\\\afterdropoff.csv',index=True,header = 0, sep=',')"
   ]
  },
  {
   "cell_type": "code",
   "execution_count": null,
   "metadata": {},
   "outputs": [],
   "source": []
  }
 ],
 "metadata": {
  "kernelspec": {
   "display_name": "Python 3",
   "language": "python",
   "name": "python3"
  },
  "language_info": {
   "codemirror_mode": {
    "name": "ipython",
    "version": 3
   },
   "file_extension": ".py",
   "mimetype": "text/x-python",
   "name": "python",
   "nbconvert_exporter": "python",
   "pygments_lexer": "ipython3",
   "version": "3.7.6"
  }
 },
 "nbformat": 4,
 "nbformat_minor": 4
}
